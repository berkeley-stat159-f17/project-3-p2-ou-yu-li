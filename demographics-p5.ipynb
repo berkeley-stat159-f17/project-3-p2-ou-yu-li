{
 "cells": [
  {
   "cell_type": "markdown",
   "metadata": {},
   "source": [
    "# 5. Income versus all explanatory variables"
   ]
  },
  {
   "cell_type": "markdown",
   "metadata": {},
   "source": [
    "In the previous notebook, we have conducted substantial analysis on the pairwise relationships among qualitative demographic variables (i.e. sex, race, occupation, marital status) and quantitative demographic variables (i.e. education, working hours per week). In this final notebook, we will discuss the extent to which all these qualitative and quantitative variables affect the annual income. The original dataset separated individuals' annual income level into two categories: below 50k (negative outcome) and above 50k (positive outcome)."
   ]
  },
  {
   "cell_type": "code",
   "execution_count": 1,
   "metadata": {},
   "outputs": [],
   "source": [
    "%matplotlib inline\n",
    "import numpy as np\n",
    "import pandas as pd\n",
    "import matplotlib.cm as cm\n",
    "import matplotlib.pyplot as plt\n",
    "import seaborn as sns\n",
    "import shelve\n",
    "import os\n",
    "import scipy\n",
    "import scipy.stats as stats\n",
    "from itertools import combinations\n",
    "# from IPython.display import display\n",
    "\n",
    "plt.style.use('seaborn-dark')"
   ]
  },
  {
   "cell_type": "code",
   "execution_count": 2,
   "metadata": {},
   "outputs": [
    {
     "data": {
      "text/html": [
       "<div>\n",
       "<style>\n",
       "    .dataframe thead tr:only-child th {\n",
       "        text-align: right;\n",
       "    }\n",
       "\n",
       "    .dataframe thead th {\n",
       "        text-align: left;\n",
       "    }\n",
       "\n",
       "    .dataframe tbody tr th {\n",
       "        vertical-align: top;\n",
       "    }\n",
       "</style>\n",
       "<table border=\"1\" class=\"dataframe\">\n",
       "  <thead>\n",
       "    <tr style=\"text-align: right;\">\n",
       "      <th></th>\n",
       "      <th>age</th>\n",
       "      <th>workclass</th>\n",
       "      <th>fnlwgt</th>\n",
       "      <th>education</th>\n",
       "      <th>education.num</th>\n",
       "      <th>marital.status</th>\n",
       "      <th>occupation</th>\n",
       "      <th>relationship</th>\n",
       "      <th>race</th>\n",
       "      <th>sex</th>\n",
       "      <th>capital.gain</th>\n",
       "      <th>capital.loss</th>\n",
       "      <th>hours.per.week</th>\n",
       "      <th>native.country</th>\n",
       "      <th>income</th>\n",
       "    </tr>\n",
       "  </thead>\n",
       "  <tbody>\n",
       "    <tr>\n",
       "      <th>0</th>\n",
       "      <td>82</td>\n",
       "      <td>Private</td>\n",
       "      <td>132870</td>\n",
       "      <td>HS-grad</td>\n",
       "      <td>9</td>\n",
       "      <td>Widowed</td>\n",
       "      <td>Exec-managerial</td>\n",
       "      <td>Not-in-family</td>\n",
       "      <td>White</td>\n",
       "      <td>Female</td>\n",
       "      <td>0</td>\n",
       "      <td>4356</td>\n",
       "      <td>18</td>\n",
       "      <td>United-States</td>\n",
       "      <td>&lt;=50K</td>\n",
       "    </tr>\n",
       "    <tr>\n",
       "      <th>1</th>\n",
       "      <td>54</td>\n",
       "      <td>Private</td>\n",
       "      <td>140359</td>\n",
       "      <td>7th-8th</td>\n",
       "      <td>4</td>\n",
       "      <td>Divorced</td>\n",
       "      <td>Machine-op-inspct</td>\n",
       "      <td>Unmarried</td>\n",
       "      <td>White</td>\n",
       "      <td>Female</td>\n",
       "      <td>0</td>\n",
       "      <td>3900</td>\n",
       "      <td>40</td>\n",
       "      <td>United-States</td>\n",
       "      <td>&lt;=50K</td>\n",
       "    </tr>\n",
       "    <tr>\n",
       "      <th>2</th>\n",
       "      <td>41</td>\n",
       "      <td>Private</td>\n",
       "      <td>264663</td>\n",
       "      <td>Some-college</td>\n",
       "      <td>10</td>\n",
       "      <td>Separated</td>\n",
       "      <td>Prof-specialty</td>\n",
       "      <td>Own-child</td>\n",
       "      <td>White</td>\n",
       "      <td>Female</td>\n",
       "      <td>0</td>\n",
       "      <td>3900</td>\n",
       "      <td>40</td>\n",
       "      <td>United-States</td>\n",
       "      <td>&lt;=50K</td>\n",
       "    </tr>\n",
       "    <tr>\n",
       "      <th>3</th>\n",
       "      <td>34</td>\n",
       "      <td>Private</td>\n",
       "      <td>216864</td>\n",
       "      <td>HS-grad</td>\n",
       "      <td>9</td>\n",
       "      <td>Divorced</td>\n",
       "      <td>Other-service</td>\n",
       "      <td>Unmarried</td>\n",
       "      <td>White</td>\n",
       "      <td>Female</td>\n",
       "      <td>0</td>\n",
       "      <td>3770</td>\n",
       "      <td>45</td>\n",
       "      <td>United-States</td>\n",
       "      <td>&lt;=50K</td>\n",
       "    </tr>\n",
       "    <tr>\n",
       "      <th>4</th>\n",
       "      <td>38</td>\n",
       "      <td>Private</td>\n",
       "      <td>150601</td>\n",
       "      <td>10th</td>\n",
       "      <td>6</td>\n",
       "      <td>Separated</td>\n",
       "      <td>Adm-clerical</td>\n",
       "      <td>Unmarried</td>\n",
       "      <td>White</td>\n",
       "      <td>Male</td>\n",
       "      <td>0</td>\n",
       "      <td>3770</td>\n",
       "      <td>40</td>\n",
       "      <td>United-States</td>\n",
       "      <td>&lt;=50K</td>\n",
       "    </tr>\n",
       "  </tbody>\n",
       "</table>\n",
       "</div>"
      ],
      "text/plain": [
       "   age workclass  fnlwgt     education  education.num marital.status  \\\n",
       "0   82   Private  132870       HS-grad              9        Widowed   \n",
       "1   54   Private  140359       7th-8th              4       Divorced   \n",
       "2   41   Private  264663  Some-college             10      Separated   \n",
       "3   34   Private  216864       HS-grad              9       Divorced   \n",
       "4   38   Private  150601          10th              6      Separated   \n",
       "\n",
       "          occupation   relationship   race     sex  capital.gain  \\\n",
       "0    Exec-managerial  Not-in-family  White  Female             0   \n",
       "1  Machine-op-inspct      Unmarried  White  Female             0   \n",
       "2     Prof-specialty      Own-child  White  Female             0   \n",
       "3      Other-service      Unmarried  White  Female             0   \n",
       "4       Adm-clerical      Unmarried  White    Male             0   \n",
       "\n",
       "   capital.loss  hours.per.week native.country income  \n",
       "0          4356              18  United-States  <=50K  \n",
       "1          3900              40  United-States  <=50K  \n",
       "2          3900              40  United-States  <=50K  \n",
       "3          3770              45  United-States  <=50K  \n",
       "4          3770              40  United-States  <=50K  "
      ]
     },
     "execution_count": 2,
     "metadata": {},
     "output_type": "execute_result"
    }
   ],
   "source": [
    "clean_adult = pd.read_hdf('results/df1.h5', 'clean_adult/')\n",
    "clean_adult.head()"
   ]
  },
  {
   "cell_type": "markdown",
   "metadata": {},
   "source": [
    "Let us first determine whether the income predicate (either >50k or <=50k) is related to sex and race, respectively."
   ]
  },
  {
   "cell_type": "code",
   "execution_count": 3,
   "metadata": {},
   "outputs": [
    {
     "name": "stdout",
     "output_type": "stream",
     "text": [
      "statistically significant: ('income', 'sex')\n",
      "p-value is 1.00155254125e-309\n"
     ]
    },
    {
     "data": {
      "text/html": [
       "<div>\n",
       "<style>\n",
       "    .dataframe thead tr:only-child th {\n",
       "        text-align: right;\n",
       "    }\n",
       "\n",
       "    .dataframe thead th {\n",
       "        text-align: left;\n",
       "    }\n",
       "\n",
       "    .dataframe tbody tr th {\n",
       "        vertical-align: top;\n",
       "    }\n",
       "</style>\n",
       "<table border=\"1\" class=\"dataframe\">\n",
       "  <thead>\n",
       "    <tr style=\"text-align: right;\">\n",
       "      <th>sex</th>\n",
       "      <th>Female</th>\n",
       "      <th>Male</th>\n",
       "    </tr>\n",
       "    <tr>\n",
       "      <th>income</th>\n",
       "      <th></th>\n",
       "      <th></th>\n",
       "    </tr>\n",
       "  </thead>\n",
       "  <tbody>\n",
       "    <tr>\n",
       "      <th>&lt;=50K</th>\n",
       "      <td>88.632182</td>\n",
       "      <td>68.61629</td>\n",
       "    </tr>\n",
       "    <tr>\n",
       "      <th>&gt;50K</th>\n",
       "      <td>11.367818</td>\n",
       "      <td>31.38371</td>\n",
       "    </tr>\n",
       "  </tbody>\n",
       "</table>\n",
       "</div>"
      ],
      "text/plain": [
       "sex        Female      Male\n",
       "income                     \n",
       "<=50K   88.632182  68.61629\n",
       ">50K    11.367818  31.38371"
      ]
     },
     "metadata": {},
     "output_type": "display_data"
    },
    {
     "data": {
      "text/plain": [
       "(1415.2864042410245,\n",
       " 1.0015525412493421e-309,\n",
       " 1,\n",
       " array([[  7347.04024932,  15306.95975068],\n",
       "        [  2434.95975068,   5073.04024932]]))"
      ]
     },
     "execution_count": 3,
     "metadata": {},
     "output_type": "execute_result"
    }
   ],
   "source": [
    "%run -i 'functions/find_indices_with_value.py'\n",
    "%run -i 'functions/chi_square_test.py'\n",
    "chi_square_test(clean_adult, \"income\", \"sex\")"
   ]
  },
  {
   "cell_type": "code",
   "execution_count": 4,
   "metadata": {},
   "outputs": [
    {
     "data": {
      "image/png": "[encoded data removed]",
      "text/plain": [
       "<matplotlib.figure.Figure at 0x7f37d82f8f28>"
      ]
     },
     "metadata": {},
     "output_type": "display_data"
    }
   ],
   "source": [
    "fig, ax = plt.subplots(nrows=1, ncols=1)\n",
    "\n",
    "bar_width = 0.35\n",
    "\n",
    "female = clean_adult[clean_adult[\"sex\"] == \"Female\"]\n",
    "male = clean_adult[clean_adult[\"sex\"] == \"Male\"]\n",
    "\n",
    "male_counts = male[\"income\"].value_counts().sort_index()\n",
    "male_percents = 100 * male_counts.values/male_counts.values.sum()\n",
    "ind = np.arange(len(male_percents))\n",
    "p1 = ax.bar(ind, male_percents, bar_width, color = \"blue\")\n",
    "\n",
    "female_counts = female[\"income\"].value_counts().sort_index()\n",
    "female_percents = 100 * female_counts.values/female_counts.values.sum()\n",
    "ind = np.arange(len(female_percents))\n",
    "p2 = ax.bar(ind + bar_width, female_percents, bar_width, color = \"red\")\n",
    "\n",
    "ax.set_title(\"Income by Sex\", fontsize = 15)\n",
    "ax.set_ylabel(\"Percentage of Group\", fontsize = 15)\n",
    "ax.set_xlabel(\"Sex\", fontsize = 15)\n",
    "plt.xticks(ind + bar_width/2, female_counts.index, fontsize = 12)\n",
    "\n",
    "plt.legend((p1[0], p2[0]), ('Male', 'Female'))\n",
    "plt.tight_layout()\n",
    "plt.savefig(\"fig/income_by_sex.png\")"
   ]
  },
  {
   "cell_type": "markdown",
   "metadata": {},
   "source": [
    "Both the Chi-Square Test and the bar chart above show that in 1994, males were far (around 3 times) more likely to earn decent income (>50k/year) than females. The p-value of 1e-309 is shocking but not surprising, and it clearly demonstrates the intrinstic bias against females in the US society of 20 years ago."
   ]
  },
  {
   "cell_type": "code",
   "execution_count": 5,
   "metadata": {},
   "outputs": [
    {
     "name": "stdout",
     "output_type": "stream",
     "text": [
      "The mean difference is statistically significant for Group Amer-Indian-Eskimo and Group Asian-Pac-Islander\n",
      "p-value is 1.45747245226e-10\n",
      "\n",
      "There is no statistically significant difference between Group Amer-Indian-Eskimo and Group Black\n",
      "\n",
      "There is no statistically significant difference between Group Amer-Indian-Eskimo and Group Other\n",
      "\n",
      "The mean difference is statistically significant for Group Amer-Indian-Eskimo and Group White\n",
      "p-value is 7.88120825344e-13\n",
      "\n",
      "The mean difference is statistically significant for Group Asian-Pac-Islander and Group Black\n",
      "p-value is 5.05881494087e-19\n",
      "\n",
      "The mean difference is statistically significant for Group Asian-Pac-Islander and Group Other\n",
      "p-value is 5.4775915124e-14\n",
      "\n",
      "There is no statistically significant difference between Group Asian-Pac-Islander and Group White\n",
      "\n",
      "There is no statistically significant difference between Group Black and Group Other\n",
      "\n",
      "The mean difference is statistically significant for Group Black and Group White\n",
      "p-value is 4.53743917668e-80\n",
      "\n",
      "The mean difference is statistically significant for Group Other and Group White\n",
      "p-value is 5.4224294703e-17\n",
      "\n"
     ]
    },
    {
     "data": {
      "text/plain": [
       "<matplotlib.figure.Figure at 0x7f37d82f82b0>"
      ]
     },
     "metadata": {},
     "output_type": "display_data"
    }
   ],
   "source": [
    "%run -i 'functions/two_sample_t_test.py'\n",
    "clean_adult['income_p'] = 0\n",
    "for i in range(len(clean_adult)):\n",
    "    if clean_adult.iloc[i, 14] == \">50K\":\n",
    "        clean_adult.iloc[i, 15] = 1\n",
    "race = clean_adult.groupby(\"race\")\n",
    "pairs = [\",\".join(map(str, comb)).split(\",\") for comb in combinations(race.groups.keys(), 2)]\n",
    "for pair in pairs:\n",
    "    race1_name = pair[0]\n",
    "    race2_name = pair[1]\n",
    "    race1 = race.get_group(pair[0])\n",
    "    race2 = race.get_group(pair[1])\n",
    "    two_sample_t_test(race1[\"income_p\"], race2[\"income_p\"], race1_name, race2_name)"
   ]
  },
  {
   "cell_type": "code",
   "execution_count": 6,
   "metadata": {},
   "outputs": [
    {
     "data": {
      "image/png": "[encoded data removed]",
      "text/plain": [
       "<matplotlib.figure.Figure at 0x7f37d825b6d8>"
      ]
     },
     "metadata": {},
     "output_type": "display_data"
    }
   ],
   "source": [
    "race_groups = clean_adult.groupby(\"race\")\n",
    "nrows = round((len(race_groups) + 0.0001)/2)\n",
    "fig, axes = plt.subplots(nrows=nrows, ncols=2, figsize=(10, 8))\n",
    "row = 0\n",
    "column = 0\n",
    "bar_width = 0.35\n",
    "cmap = cm.get_cmap('viridis')\n",
    "\n",
    "i = 0\n",
    "for name, group in race_groups:\n",
    "    if nrows > 1:\n",
    "        ax = axes[row, column]\n",
    "    else:\n",
    "        ax = axes[column]\n",
    "    counts = group[\"income\"].value_counts().sort_index()\n",
    "    percents = 100 * counts.values/counts.values.sum()\n",
    "    ind = np.arange(len(percents))\n",
    "    p = sns.barplot(ind, percents, ax =ax, color = cmap(i))\n",
    "    ax.set_title(\"Income by Race\", fontsize = 15)\n",
    "    ax.set_ylabel(\"Percentage of Group\", fontsize = 12)\n",
    "    ax.set_xlabel(\"Income\", fontsize = 12)\n",
    "    ax.set_xticklabels(counts.index, fontsize = 8, rotation = 15)\n",
    "    ax.set_title(\"\".join(name) + \" Income Percentages\", y = 0.95, fontsize=12)\n",
    "\n",
    "    column = 1 - column\n",
    "    if column == 0:\n",
    "        row += 1\n",
    "    i += 0.2\n",
    "\n",
    "if column == 1:\n",
    "    axes[-1, -1].axis(\"off\")\n",
    "plt.tight_layout()\n",
    "plt.savefig(\"fig/income_by_race\") "
   ]
  },
  {
   "cell_type": "markdown",
   "metadata": {},
   "source": [
    "Both the t-Test and the bar charts above show that in 1994, Asian-Pac-Islanders and Whites were far (around 3 times) more likely to earn decent income (>50k/year) than other ethnic groups. Moreover: \n",
    "* There is no statistically significant difference between Asian-Pac-Islanders and Whites, and there is no statistically significant difference among the other three ethnic groups (Black, Amer-Indian-Eskimo and Other). This pattern draws a boundary line between ethnicities with higher and lower income. The p-value for Group White and Group Black was, again, unsurprisingly the smallest. Hence in 1994, **racial bias** was prevalent in income distribution. \n",
    "* The p-value for Group White and Group Black (i.e. 4.5e-80) is still much larger than that for males and females (i.e. 1e-309). Hence, it is likely that a Black male earns more than a White female if they have common occupation, education level, etc. The **sexual bias** in income distribution was more serious than the racial bias."
   ]
  },
  {
   "cell_type": "markdown",
   "metadata": {},
   "source": [
    "After discussing sex and race, let us look at how occupation affects one's level of income."
   ]
  },
  {
   "cell_type": "code",
   "execution_count": 7,
   "metadata": {},
   "outputs": [
    {
     "name": "stdout",
     "output_type": "stream",
     "text": [
      "statistically significant: ('occupation', 'income_p')\n",
      "p-value is 0.0\n"
     ]
    },
    {
     "data": {
      "text/html": [
       "<div>\n",
       "<style>\n",
       "    .dataframe thead tr:only-child th {\n",
       "        text-align: right;\n",
       "    }\n",
       "\n",
       "    .dataframe thead th {\n",
       "        text-align: left;\n",
       "    }\n",
       "\n",
       "    .dataframe tbody tr th {\n",
       "        vertical-align: top;\n",
       "    }\n",
       "</style>\n",
       "<table border=\"1\" class=\"dataframe\">\n",
       "  <thead>\n",
       "    <tr style=\"text-align: right;\">\n",
       "      <th>income_p</th>\n",
       "      <th>0</th>\n",
       "      <th>1</th>\n",
       "    </tr>\n",
       "    <tr>\n",
       "      <th>occupation</th>\n",
       "      <th></th>\n",
       "      <th></th>\n",
       "    </tr>\n",
       "  </thead>\n",
       "  <tbody>\n",
       "    <tr>\n",
       "      <th>Adm-clerical</th>\n",
       "      <td>14.227068</td>\n",
       "      <td>6.632925</td>\n",
       "    </tr>\n",
       "    <tr>\n",
       "      <th>Armed-Forces</th>\n",
       "      <td>0.035314</td>\n",
       "      <td>0.013319</td>\n",
       "    </tr>\n",
       "    <tr>\n",
       "      <th>Craft-repair</th>\n",
       "      <td>13.781231</td>\n",
       "      <td>12.093767</td>\n",
       "    </tr>\n",
       "    <tr>\n",
       "      <th>Exec-managerial</th>\n",
       "      <td>9.071246</td>\n",
       "      <td>25.799148</td>\n",
       "    </tr>\n",
       "    <tr>\n",
       "      <th>Farming-fishing</th>\n",
       "      <td>3.858038</td>\n",
       "      <td>1.531700</td>\n",
       "    </tr>\n",
       "    <tr>\n",
       "      <th>Handlers-cleaners</th>\n",
       "      <td>5.592831</td>\n",
       "      <td>1.105487</td>\n",
       "    </tr>\n",
       "    <tr>\n",
       "      <th>Machine-op-inspct</th>\n",
       "      <td>7.596892</td>\n",
       "      <td>3.263186</td>\n",
       "    </tr>\n",
       "    <tr>\n",
       "      <th>Other-service</th>\n",
       "      <td>13.595833</td>\n",
       "      <td>1.758125</td>\n",
       "    </tr>\n",
       "    <tr>\n",
       "      <th>Priv-house-serv</th>\n",
       "      <td>0.626821</td>\n",
       "      <td>0.013319</td>\n",
       "    </tr>\n",
       "    <tr>\n",
       "      <th>Prof-specialty</th>\n",
       "      <td>9.830494</td>\n",
       "      <td>24.120938</td>\n",
       "    </tr>\n",
       "    <tr>\n",
       "      <th>Protective-serv</th>\n",
       "      <td>1.915776</td>\n",
       "      <td>2.797017</td>\n",
       "    </tr>\n",
       "    <tr>\n",
       "      <th>Sales</th>\n",
       "      <td>11.538801</td>\n",
       "      <td>12.919552</td>\n",
       "    </tr>\n",
       "    <tr>\n",
       "      <th>Tech-support</th>\n",
       "      <td>2.798623</td>\n",
       "      <td>3.702717</td>\n",
       "    </tr>\n",
       "    <tr>\n",
       "      <th>Transport-moving</th>\n",
       "      <td>5.531032</td>\n",
       "      <td>4.248801</td>\n",
       "    </tr>\n",
       "  </tbody>\n",
       "</table>\n",
       "</div>"
      ],
      "text/plain": [
       "income_p                   0          1\n",
       "occupation                             \n",
       "Adm-clerical       14.227068   6.632925\n",
       "Armed-Forces        0.035314   0.013319\n",
       "Craft-repair       13.781231  12.093767\n",
       "Exec-managerial     9.071246  25.799148\n",
       "Farming-fishing     3.858038   1.531700\n",
       "Handlers-cleaners   5.592831   1.105487\n",
       "Machine-op-inspct   7.596892   3.263186\n",
       "Other-service      13.595833   1.758125\n",
       "Priv-house-serv     0.626821   0.013319\n",
       "Prof-specialty      9.830494  24.120938\n",
       "Protective-serv     1.915776   2.797017\n",
       "Sales              11.538801  12.919552\n",
       "Tech-support        2.798623   3.702717\n",
       "Transport-moving    5.531032   4.248801"
      ]
     },
     "metadata": {},
     "output_type": "display_data"
    },
    {
     "data": {
      "text/plain": [
       "(3687.6206511127989, 0.0, 13, array([[  2.79475943e+03,   9.26240568e+02],\n",
       "        [  6.75969763e+00,   2.24030237e+00],\n",
       "        [  3.02684238e+03,   1.00315762e+03],\n",
       "        [  2.99830144e+03,   9.93698561e+02],\n",
       "        [  7.42815662e+02,   2.46184338e+02],\n",
       "        [  1.01395464e+03,   3.36045355e+02],\n",
       "        [  1.47661839e+03,   4.89381606e+02],\n",
       "        [  2.41246098e+03,   7.99539023e+02],\n",
       "        [  1.07404085e+02,   3.55959154e+01],\n",
       "        [  3.03285100e+03,   1.00514900e+03],\n",
       "        [  4.83693920e+02,   1.60306080e+02],\n",
       "        [  2.69186181e+03,   8.92138187e+02],\n",
       "        [  6.84982693e+02,   2.27017307e+02],\n",
       "        [  1.18069385e+03,   3.91306147e+02]]))"
      ]
     },
     "execution_count": 7,
     "metadata": {},
     "output_type": "execute_result"
    }
   ],
   "source": [
    "chi_square_test(clean_adult,\"occupation\", \"income_p\")"
   ]
  },
  {
   "cell_type": "code",
   "execution_count": 8,
   "metadata": {},
   "outputs": [
    {
     "data": {
      "image/png": "[encoded data removed]",
      "text/plain": [
       "<matplotlib.figure.Figure at 0x7f37d80965c0>"
      ]
     },
     "metadata": {},
     "output_type": "display_data"
    }
   ],
   "source": [
    "fig, ax = plt.subplots(nrows=1, ncols=1, figsize=(20, 10))\n",
    "\n",
    "below = clean_adult[clean_adult[\"income_p\"] == 0]\n",
    "above = clean_adult[clean_adult[\"income_p\"] == 1]\n",
    "\n",
    "above_counts = above[\"occupation\"].value_counts().sort_index()\n",
    "above_percents = 100 * above_counts.values/above_counts.values.sum()\n",
    "ind = np.arange(len(above_percents))\n",
    "p1 = ax.bar(ind, above_percents, bar_width, color = \"blue\")\n",
    "\n",
    "below_counts = below[\"occupation\"].value_counts().sort_index()\n",
    "below_percents = 100 * below_counts.values/below_counts.values.sum()\n",
    "ind = np.arange(len(below_percents))\n",
    "p2 = ax.bar(ind + bar_width, below_percents, bar_width, color = \"red\")\n",
    "\n",
    "ax.set_title(\"Occupation by Income\", fontsize = 15)\n",
    "ax.set_ylabel(\"Percentage of Group in Occupation\", fontsize = 15)\n",
    "ax.set_xlabel(\"Occupation\", fontsize = 15)\n",
    "plt.xticks(ind + bar_width/2, below_counts.index, fontsize = 12)\n",
    "\n",
    "plt.legend((p1[0], p2[0]), ('>50k', '<=50k'))\n",
    "plt.tight_layout()\n",
    "plt.savefig(\"fig/occupation by income.png\")"
   ]
  },
  {
   "cell_type": "markdown",
   "metadata": {},
   "source": [
    "The Chi-Square Test and the graph above both denote the huge discrepancy of income level across different occupations. Some of our observations are as follow:\n",
    "* Occupations that have an obviously decent income include: executive managerial roles and prof-specialty jobs. \n",
    "* Occupations that have an obviously indecent income include: other services, handlers and cleaners, farming and fishing, and private house services. \n",
    "* The category \"other services\" shows the most extreme gap (around 8 times) and is closely associated with females and minor ethnicities as discussed from the previous notebooks. Also, every individual in the category \"armed-forces\" earned less than 50k. It is probable that the country pays the soldiers for protecting our homeland in other intangible methods. "
   ]
  },
  {
   "cell_type": "markdown",
   "metadata": {},
   "source": [
    "Last but not the least, let us look at the relationship between income and working hours per week. "
   ]
  },
  {
   "cell_type": "code",
   "execution_count": 9,
   "metadata": {},
   "outputs": [
    {
     "data": {
      "image/png": "[encoded data removed]",
      "text/plain": [
       "<matplotlib.figure.Figure at 0x7f37d84fa6a0>"
      ]
     },
     "metadata": {},
     "output_type": "display_data"
    }
   ],
   "source": [
    "ax = sns.regplot(x = \"hours.per.week\", y = \"income_p\", data=clean_adult);\n",
    "ax.set_title(\"Working hours per week vs Income\");\n",
    "plt.savefig(\"fig/hours_income.png\")"
   ]
  },
  {
   "cell_type": "code",
   "execution_count": 10,
   "metadata": {},
   "outputs": [
    {
     "data": {
      "text/html": [
       "<table class=\"simpletable\">\n",
       "<caption>OLS Regression Results</caption>\n",
       "<tr>\n",
       "  <th>Dep. Variable:</th>        <td>income_p</td>     <th>  R-squared:         </th> <td>   0.286</td> \n",
       "</tr>\n",
       "<tr>\n",
       "  <th>Model:</th>                   <td>OLS</td>       <th>  Adj. R-squared:    </th> <td>   0.286</td> \n",
       "</tr>\n",
       "<tr>\n",
       "  <th>Method:</th>             <td>Least Squares</td>  <th>  F-statistic:       </th> <td>1.208e+04</td>\n",
       "</tr>\n",
       "<tr>\n",
       "  <th>Date:</th>             <td>Wed, 06 Dec 2017</td> <th>  Prob (F-statistic):</th>  <td>  0.00</td>  \n",
       "</tr>\n",
       "<tr>\n",
       "  <th>Time:</th>                 <td>19:43:54</td>     <th>  Log-Likelihood:    </th> <td> -16748.</td> \n",
       "</tr>\n",
       "<tr>\n",
       "  <th>No. Observations:</th>      <td> 30162</td>      <th>  AIC:               </th> <td>3.350e+04</td>\n",
       "</tr>\n",
       "<tr>\n",
       "  <th>Df Residuals:</th>          <td> 30161</td>      <th>  BIC:               </th> <td>3.351e+04</td>\n",
       "</tr>\n",
       "<tr>\n",
       "  <th>Df Model:</th>              <td>     1</td>      <th>                     </th>     <td> </td>    \n",
       "</tr>\n",
       "<tr>\n",
       "  <th>Covariance Type:</th>      <td>nonrobust</td>    <th>                     </th>     <td> </td>    \n",
       "</tr>\n",
       "</table>\n",
       "<table class=\"simpletable\">\n",
       "<tr>\n",
       "         <td></td>           <th>coef</th>     <th>std err</th>      <th>t</th>      <th>P>|t|</th>  <th>[0.025</th>    <th>0.975]</th>  \n",
       "</tr>\n",
       "<tr>\n",
       "  <th>hours.per.week</th> <td>    0.0063</td> <td> 5.69e-05</td> <td>  109.889</td> <td> 0.000</td> <td>    0.006</td> <td>    0.006</td>\n",
       "</tr>\n",
       "</table>\n",
       "<table class=\"simpletable\">\n",
       "<tr>\n",
       "  <th>Omnibus:</th>       <td>5244.723</td> <th>  Durbin-Watson:     </th> <td>   1.514</td>\n",
       "</tr>\n",
       "<tr>\n",
       "  <th>Prob(Omnibus):</th>  <td> 0.000</td>  <th>  Jarque-Bera (JB):  </th> <td>6579.542</td>\n",
       "</tr>\n",
       "<tr>\n",
       "  <th>Skew:</th>           <td> 1.100</td>  <th>  Prob(JB):          </th> <td>    0.00</td>\n",
       "</tr>\n",
       "<tr>\n",
       "  <th>Kurtosis:</th>       <td> 2.369</td>  <th>  Cond. No.          </th> <td>    1.00</td>\n",
       "</tr>\n",
       "</table>"
      ],
      "text/plain": [
       "<class 'statsmodels.iolib.summary.Summary'>\n",
       "\"\"\"\n",
       "                            OLS Regression Results                            \n",
       "==============================================================================\n",
       "Dep. Variable:               income_p   R-squared:                       0.286\n",
       "Model:                            OLS   Adj. R-squared:                  0.286\n",
       "Method:                 Least Squares   F-statistic:                 1.208e+04\n",
       "Date:                Wed, 06 Dec 2017   Prob (F-statistic):               0.00\n",
       "Time:                        19:43:54   Log-Likelihood:                -16748.\n",
       "No. Observations:               30162   AIC:                         3.350e+04\n",
       "Df Residuals:                   30161   BIC:                         3.351e+04\n",
       "Df Model:                           1                                         \n",
       "Covariance Type:            nonrobust                                         \n",
       "==================================================================================\n",
       "                     coef    std err          t      P>|t|      [0.025      0.975]\n",
       "----------------------------------------------------------------------------------\n",
       "hours.per.week     0.0063   5.69e-05    109.889      0.000       0.006       0.006\n",
       "==============================================================================\n",
       "Omnibus:                     5244.723   Durbin-Watson:                   1.514\n",
       "Prob(Omnibus):                  0.000   Jarque-Bera (JB):             6579.542\n",
       "Skew:                           1.100   Prob(JB):                         0.00\n",
       "Kurtosis:                       2.369   Cond. No.                         1.00\n",
       "==============================================================================\n",
       "\n",
       "Warnings:\n",
       "[1] Standard Errors assume that the covariance matrix of the errors is correctly specified.\n",
       "\"\"\""
      ]
     },
     "execution_count": 10,
     "metadata": {},
     "output_type": "execute_result"
    }
   ],
   "source": [
    "#Print the summary of the linear regression method.\n",
    "import statsmodels.formula.api as sm\n",
    "Y = clean_adult.iloc[:,15]\n",
    "X = clean_adult.iloc[:,12]\n",
    "result = sm.OLS(Y, X).fit()\n",
    "result.summary()"
   ]
  },
  {
   "cell_type": "markdown",
   "metadata": {},
   "source": [
    "As demonstrated by the linear regression, income level tends to get higher if the individual works more. However, the linear method is probably not the best regression method. A **logistic \"S\" curve** can probably give a better estimation with lower information criteria. The reason is that there is a \"threshold\" number of working hours, where people who work more than this threshold become much more likely to earn a decent annual income (>50k)."
   ]
  }
 ],
 "metadata": {
  "kernelspec": {
   "display_name": "Python 3",
   "language": "python",
   "name": "python3"
  },
  "language_info": {
   "codemirror_mode": {
    "name": "ipython",
    "version": 3
   },
   "file_extension": ".py",
   "mimetype": "text/x-python",
   "name": "python",
   "nbconvert_exporter": "python",
   "pygments_lexer": "ipython3",
   "version": "3.6.1"
  }
 },
 "nbformat": 4,
 "nbformat_minor": 2
}
