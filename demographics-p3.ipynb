{
 "cells": [
  {
   "cell_type": "markdown",
   "metadata": {},
   "source": [
    "# 3. Sex, Race, and Education\n",
    "\n",
    "Is there a relationship between sex/race and education? Let's take a closer look. "
   ]
  },
  {
   "cell_type": "code",
   "execution_count": 1,
   "metadata": {},
   "outputs": [],
   "source": [
    "%matplotlib inline\n",
    "import numpy as np\n",
    "import pandas as pd\n",
    "import matplotlib.pyplot as plt\n",
    "import seaborn as sns\n",
    "import shelve\n",
    "import os\n",
    "import scipy.stats as stats\n",
    "from itertools import combinations\n",
    "\n",
    "plt.style.use('seaborn-dark')"
   ]
  },
  {
   "cell_type": "code",
   "execution_count": 2,
   "metadata": {},
   "outputs": [
    {
     "data": {
      "text/html": [
       "<div>\n",
       "<style>\n",
       "    .dataframe thead tr:only-child th {\n",
       "        text-align: right;\n",
       "    }\n",
       "\n",
       "    .dataframe thead th {\n",
       "        text-align: left;\n",
       "    }\n",
       "\n",
       "    .dataframe tbody tr th {\n",
       "        vertical-align: top;\n",
       "    }\n",
       "</style>\n",
       "<table border=\"1\" class=\"dataframe\">\n",
       "  <thead>\n",
       "    <tr style=\"text-align: right;\">\n",
       "      <th></th>\n",
       "      <th>age</th>\n",
       "      <th>workclass</th>\n",
       "      <th>fnlwgt</th>\n",
       "      <th>education</th>\n",
       "      <th>education.num</th>\n",
       "      <th>marital.status</th>\n",
       "      <th>occupation</th>\n",
       "      <th>relationship</th>\n",
       "      <th>race</th>\n",
       "      <th>sex</th>\n",
       "      <th>capital.gain</th>\n",
       "      <th>capital.loss</th>\n",
       "      <th>hours.per.week</th>\n",
       "      <th>native.country</th>\n",
       "      <th>income</th>\n",
       "    </tr>\n",
       "  </thead>\n",
       "  <tbody>\n",
       "    <tr>\n",
       "      <th>0</th>\n",
       "      <td>82</td>\n",
       "      <td>Private</td>\n",
       "      <td>132870</td>\n",
       "      <td>HS-grad</td>\n",
       "      <td>9</td>\n",
       "      <td>Widowed</td>\n",
       "      <td>Exec-managerial</td>\n",
       "      <td>Not-in-family</td>\n",
       "      <td>White</td>\n",
       "      <td>Female</td>\n",
       "      <td>0</td>\n",
       "      <td>4356</td>\n",
       "      <td>18</td>\n",
       "      <td>United-States</td>\n",
       "      <td>&lt;=50K</td>\n",
       "    </tr>\n",
       "    <tr>\n",
       "      <th>1</th>\n",
       "      <td>54</td>\n",
       "      <td>Private</td>\n",
       "      <td>140359</td>\n",
       "      <td>7th-8th</td>\n",
       "      <td>4</td>\n",
       "      <td>Divorced</td>\n",
       "      <td>Machine-op-inspct</td>\n",
       "      <td>Unmarried</td>\n",
       "      <td>White</td>\n",
       "      <td>Female</td>\n",
       "      <td>0</td>\n",
       "      <td>3900</td>\n",
       "      <td>40</td>\n",
       "      <td>United-States</td>\n",
       "      <td>&lt;=50K</td>\n",
       "    </tr>\n",
       "    <tr>\n",
       "      <th>2</th>\n",
       "      <td>41</td>\n",
       "      <td>Private</td>\n",
       "      <td>264663</td>\n",
       "      <td>Some-college</td>\n",
       "      <td>10</td>\n",
       "      <td>Separated</td>\n",
       "      <td>Prof-specialty</td>\n",
       "      <td>Own-child</td>\n",
       "      <td>White</td>\n",
       "      <td>Female</td>\n",
       "      <td>0</td>\n",
       "      <td>3900</td>\n",
       "      <td>40</td>\n",
       "      <td>United-States</td>\n",
       "      <td>&lt;=50K</td>\n",
       "    </tr>\n",
       "    <tr>\n",
       "      <th>3</th>\n",
       "      <td>34</td>\n",
       "      <td>Private</td>\n",
       "      <td>216864</td>\n",
       "      <td>HS-grad</td>\n",
       "      <td>9</td>\n",
       "      <td>Divorced</td>\n",
       "      <td>Other-service</td>\n",
       "      <td>Unmarried</td>\n",
       "      <td>White</td>\n",
       "      <td>Female</td>\n",
       "      <td>0</td>\n",
       "      <td>3770</td>\n",
       "      <td>45</td>\n",
       "      <td>United-States</td>\n",
       "      <td>&lt;=50K</td>\n",
       "    </tr>\n",
       "    <tr>\n",
       "      <th>4</th>\n",
       "      <td>38</td>\n",
       "      <td>Private</td>\n",
       "      <td>150601</td>\n",
       "      <td>10th</td>\n",
       "      <td>6</td>\n",
       "      <td>Separated</td>\n",
       "      <td>Adm-clerical</td>\n",
       "      <td>Unmarried</td>\n",
       "      <td>White</td>\n",
       "      <td>Male</td>\n",
       "      <td>0</td>\n",
       "      <td>3770</td>\n",
       "      <td>40</td>\n",
       "      <td>United-States</td>\n",
       "      <td>&lt;=50K</td>\n",
       "    </tr>\n",
       "  </tbody>\n",
       "</table>\n",
       "</div>"
      ],
      "text/plain": [
       "   age workclass  fnlwgt     education  education.num marital.status  \\\n",
       "0   82   Private  132870       HS-grad              9        Widowed   \n",
       "1   54   Private  140359       7th-8th              4       Divorced   \n",
       "2   41   Private  264663  Some-college             10      Separated   \n",
       "3   34   Private  216864       HS-grad              9       Divorced   \n",
       "4   38   Private  150601          10th              6      Separated   \n",
       "\n",
       "          occupation   relationship   race     sex  capital.gain  \\\n",
       "0    Exec-managerial  Not-in-family  White  Female             0   \n",
       "1  Machine-op-inspct      Unmarried  White  Female             0   \n",
       "2     Prof-specialty      Own-child  White  Female             0   \n",
       "3      Other-service      Unmarried  White  Female             0   \n",
       "4       Adm-clerical      Unmarried  White    Male             0   \n",
       "\n",
       "   capital.loss  hours.per.week native.country income  \n",
       "0          4356              18  United-States  <=50K  \n",
       "1          3900              40  United-States  <=50K  \n",
       "2          3900              40  United-States  <=50K  \n",
       "3          3770              45  United-States  <=50K  \n",
       "4          3770              40  United-States  <=50K  "
      ]
     },
     "execution_count": 2,
     "metadata": {},
     "output_type": "execute_result"
    }
   ],
   "source": [
    "clean_adult = pd.read_hdf('results/df1.h5', 'clean_adult/')\n",
    "clean_adult.head()"
   ]
  },
  {
   "cell_type": "code",
   "execution_count": 3,
   "metadata": {},
   "outputs": [
    {
     "data": {
      "image/png": "[encoded data removed]",
      "text/plain": [
       "<matplotlib.figure.Figure at 0x7fb90efd3e48>"
      ]
     },
     "metadata": {},
     "output_type": "display_data"
    }
   ],
   "source": [
    "ax = sns.boxplot(x=\"sex\", y=\"education.num\", data=clean_adult, palette=\"muted\")\n",
    "ax.set_title(\"Years of Education since 4th Grade vs. Sex\");\n",
    "plt.savefig(\"fig/education_sex.png\")"
   ]
  },
  {
   "cell_type": "markdown",
   "metadata": {},
   "source": [
    "Wow! They look quite similar, with the same mean of education.num = 10 years, although it seems that males finish college more often (education.num = 13 years).\n",
    "\n",
    "What about race?"
   ]
  },
  {
   "cell_type": "code",
   "execution_count": 4,
   "metadata": {},
   "outputs": [
    {
     "data": {
      "image/png": "[encoded data removed]",
      "text/plain": [
       "<matplotlib.figure.Figure at 0x7fb9403da358>"
      ]
     },
     "metadata": {},
     "output_type": "display_data"
    }
   ],
   "source": [
    "ax = sns.boxplot(x=\"race\", y=\"education.num\", data=clean_adult, palette=\"muted\")\n",
    "ax.set_title(\"Years of Education since 4th Grade vs Race\")\n",
    "plt.savefig(\"fig/education_race.png\")"
   ]
  },
  {
   "cell_type": "markdown",
   "metadata": {},
   "source": [
    "Some observations are:\n",
    "* Black, Native American/Eskimo, and Other groups have a high variance and low median compared to the White and Asian/Pacific Islander groups. This is not surprising. Unfortunately not much has changed since 1994. \n",
    "* The Asian/Pacific Islander group has the highest mean education. This reflects both the fact that immigrants in this group tend to have a high education and also the culture valuing education by this group.\n",
    "\n",
    "Now it's time to some hypothesis testing. We want to see if there is a difference in education between groups. For this case we will use the two sample t-test. The conditions for the test are:\n",
    "* The sampling method for each sample is simple random sampling.\n",
    "* The samples are independent.\n",
    "* Each population is at least 20 times larger than its respective sample.\n",
    "* The sampling distribution is approximately normal.\n",
    "\n",
    "We have no reason to believe that these assumptions are not met."
   ]
  },
  {
   "cell_type": "code",
   "execution_count": 5,
   "metadata": {},
   "outputs": [],
   "source": [
    "def two_sample_t_test(group1, group2, group1_name, group2_name, alpha = 0.05):\n",
    "    \"\"\"Performs a two-sided two sample t-test to see if there is a difference in mean between\n",
    "    the value of two groups. \n",
    "    \n",
    "    Parameters\n",
    "    ----------\n",
    "    group1: Data for the first group. Can be list or array\n",
    "    group2: Data for the second group. Can be list or array\n",
    "    group1_name: Name of first group\n",
    "    group2_name: Name of second group\n",
    "    alpha: Significance level, default of 0.05 (Although this is very arbitrary as we saw in this class)\n",
    "    \n",
    "    \n",
    "    Return\n",
    "    ------\n",
    "    (t, p, reject)\n",
    "    t: the t-statistic\n",
    "    p: the p-value\n",
    "    reject: whether we reject the null hypothesis\n",
    "    \n",
    "    Example\n",
    "    -------\n",
    "    \n",
    "    >>> group1 = [1, 2, 3]\n",
    "    ... group2 = [1, 2, 3]\n",
    "    ... two_sample_t_test(group1, group2, \"group1\", \"group2\")\n",
    "    There is no statistically significant difference between Group group1 and Group group2\n",
    "    (0.0, 1.0)    \n",
    "    \"\"\"    \n",
    "        \n",
    "    n1 = len(group1)\n",
    "    n2 = len(group2)\n",
    "    assert(n1 > 0)\n",
    "    assert(n2 > 0)\n",
    "    s12 = np.var(group1)\n",
    "    s22 = np.var(group2)\n",
    "    m1 = np.mean(group1)\n",
    "    m2 = np.mean(group2)\n",
    "    se = np.sqrt((s12/n1) + (s22/n2))\n",
    "    df = (np.square(s12/n1 + s22/n2) / (( np.square(s12 / n1) / (n1 - 1) ) + (np.square(s22 / n2) / (n2 - 1)))).astype(int)\n",
    "    t = ((m1 - m2)) / se\n",
    "    p = stats.t.sf(np.abs(t), df)*2\n",
    "    if (p < alpha):\n",
    "        print(\"The mean difference is statistically significant for Group \"  + group1_name +\" and Group \" + group2_name)\n",
    "        print(\"p-value is \" + str(p))\n",
    "        print()\n",
    "    else:\n",
    "        print(\"There is no statistically significant difference between Group \" + group1_name +\" and Group \" + group2_name)\n",
    "        print()\n",
    "    return (t, p, p < alpha)"
   ]
  },
  {
   "cell_type": "code",
   "execution_count": 6,
   "metadata": {},
   "outputs": [
    {
     "name": "stdout",
     "output_type": "stream",
     "text": [
      "There is no statistically significant difference between Group Male and Group Female\n",
      "\n"
     ]
    }
   ],
   "source": [
    "male = clean_adult[clean_adult[\"sex\"] == \"Male\"]\n",
    "female = clean_adult[clean_adult[\"sex\"] == \"Female\"]\n",
    "t, p, reject = two_sample_t_test(male[\"education.num\"], female[\"education.num\"], \"Male\", \"Female\")"
   ]
  },
  {
   "cell_type": "markdown",
   "metadata": {},
   "source": [
    "As expected from looking at the box plot, males and females do not have statistically different years of education."
   ]
  },
  {
   "cell_type": "code",
   "execution_count": 7,
   "metadata": {},
   "outputs": [
    {
     "name": "stdout",
     "output_type": "stream",
     "text": [
      "The mean difference is statistically significant for Group Amer-Indian-Eskimo and Group Asian-Pac-Islander\n",
      "p-value is 3.13492993644e-23\n",
      "\n",
      "There is no statistically significant difference between Group Amer-Indian-Eskimo and Group Black\n",
      "\n",
      "The mean difference is statistically significant for Group Amer-Indian-Eskimo and Group Other\n",
      "p-value is 0.00709780510747\n",
      "\n",
      "The mean difference is statistically significant for Group Amer-Indian-Eskimo and Group White\n",
      "p-value is 1.80818942375e-09\n",
      "\n",
      "The mean difference is statistically significant for Group Asian-Pac-Islander and Group Black\n",
      "p-value is 5.2608000932e-44\n",
      "\n",
      "The mean difference is statistically significant for Group Asian-Pac-Islander and Group Other\n",
      "p-value is 3.88949414009e-21\n",
      "\n",
      "The mean difference is statistically significant for Group Asian-Pac-Islander and Group White\n",
      "p-value is 2.62019447341e-18\n",
      "\n",
      "The mean difference is statistically significant for Group Black and Group Other\n",
      "p-value is 0.000111081299559\n",
      "\n",
      "The mean difference is statistically significant for Group Black and Group White\n",
      "p-value is 3.96999641859e-44\n",
      "\n",
      "The mean difference is statistically significant for Group Other and Group White\n",
      "p-value is 2.15918354415e-11\n",
      "\n"
     ]
    }
   ],
   "source": [
    "races = clean_adult.groupby(\"race\")\n",
    "pairs = [\",\".join(map(str, comb)).split(\",\") for comb in combinations(races.groups.keys(), 2)]\n",
    "for pair in pairs:\n",
    "    race1_name = pair[0]\n",
    "    race2_name = pair[1]\n",
    "    race1 = races.get_group(pair[0])\n",
    "    race2 = races.get_group(pair[1])\n",
    "    two_sample_t_test(race1[\"education.num\"], race2[\"education.num\"], race1_name, race2_name)"
   ]
  },
  {
   "cell_type": "markdown",
   "metadata": {},
   "source": [
    "The results match with looking at the box plots again: The only non-statistically significant difference is the Black group and the Native American/Eskimo group. \n",
    "\n",
    "Thus, we saw that there is a relationship between education and race, but not a relationship between education and sex."
   ]
  },
  {
   "cell_type": "markdown",
   "metadata": {},
   "source": [
    "**Testing Section**"
   ]
  },
  {
   "cell_type": "code",
   "execution_count": 8,
   "metadata": {},
   "outputs": [],
   "source": [
    "import unittest"
   ]
  },
  {
   "cell_type": "code",
   "execution_count": 9,
   "metadata": {},
   "outputs": [],
   "source": [
    "class MyTests(unittest.TestCase):\n",
    "    def test_same_population(self):\n",
    "        group1 = [1, 2, 3]\n",
    "        group2 = group1\n",
    "        t, p, reject = two_sample_t_test(group1, group2, \"group1\", \"group2\")\n",
    "        self.assertAlmostEqual(0, t)\n",
    "        self.assertAlmostEqual(1, p)\n",
    "        self.assertTrue(not reject)\n",
    "    def test_obvious_difference(self):\n",
    "        group1 = [1, 2, 3]\n",
    "        group2 = [1000, 1001, 1001]\n",
    "        t, p, reject = two_sample_t_test(group1, group2, \"group1\", \"group2\")\n",
    "        self.assertAlmostEqual(0, p)\n",
    "        self.assertTrue(reject)\n",
    "    def test_significance_level(self):\n",
    "        t, p, reject = two_sample_t_test([1, 2, 3], [4,9, 5], \"group1\", \"group2\", 0.1)\n",
    "        self.assertAlmostEqual(0.1, p, places = 1)\n",
    "        self.assertTrue(reject)\n",
    "        t, p, reject = two_sample_t_test([1, 2, 3], [4,9, 5], \"group1\", \"group2\")\n",
    "        self.assertAlmostEqual(0.1, p, places = 1)\n",
    "        self.assertTrue(not reject)\n",
    "    def test_same_population_different_order(self):\n",
    "        group1 = [1, 2, 4]\n",
    "        group2 = [2, 4, 1]\n",
    "        t, p, reject = two_sample_t_test(group1, group2, \"group1\", \"group2\")\n",
    "        self.assertAlmostEqual(0, t)\n",
    "        self.assertAlmostEqual(1, p)"
   ]
  },
  {
   "cell_type": "code",
   "execution_count": 10,
   "metadata": {
    "scrolled": true
   },
   "outputs": [
    {
     "name": "stderr",
     "output_type": "stream",
     "text": [
      "test_obvious_difference (__main__.MyTests) ... ok\n",
      "test_same_population (__main__.MyTests) ... ok\n",
      "test_same_population_different_order (__main__.MyTests) ... ok\n",
      "test_significance_level (__main__.MyTests) ... "
     ]
    },
    {
     "name": "stdout",
     "output_type": "stream",
     "text": [
      "The mean difference is statistically significant for Group group1 and Group group2\n",
      "p-value is 3.57106662485e-10\n",
      "\n",
      "There is no statistically significant difference between Group group1 and Group group2\n",
      "\n",
      "There is no statistically significant difference between Group group1 and Group group2\n",
      "\n",
      "The mean difference is statistically significant for Group group1 and Group group2\n",
      "p-value is 0.0954659662667\n",
      "\n",
      "There is no statistically significant difference between Group group1 and Group group2\n",
      "\n"
     ]
    },
    {
     "name": "stderr",
     "output_type": "stream",
     "text": [
      "ok\n",
      "\n",
      "----------------------------------------------------------------------\n",
      "Ran 4 tests in 0.013s\n",
      "\n",
      "OK\n"
     ]
    },
    {
     "data": {
      "text/plain": [
       "<unittest.main.TestProgram at 0x7fb90ed99278>"
      ]
     },
     "execution_count": 10,
     "metadata": {},
     "output_type": "execute_result"
    }
   ],
   "source": [
    "unittest.main(argv=[\"foo\"], exit = False, verbosity = 2)"
   ]
  }
 ],
 "metadata": {
  "kernelspec": {
   "display_name": "Python 3",
   "language": "python",
   "name": "python3"
  },
  "language_info": {
   "codemirror_mode": {
    "name": "ipython",
    "version": 3
   },
   "file_extension": ".py",
   "mimetype": "text/x-python",
   "name": "python",
   "nbconvert_exporter": "python",
   "pygments_lexer": "ipython3",
   "version": "3.6.3"
  }
 },
 "nbformat": 4,
 "nbformat_minor": 2
}
