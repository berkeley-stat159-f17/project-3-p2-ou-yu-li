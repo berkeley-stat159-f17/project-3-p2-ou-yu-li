{
 "cells": [
  {
   "cell_type": "markdown",
   "metadata": {},
   "source": [
    "# 1. Cleaning the Data"
   ]
  },
  {
   "cell_type": "code",
   "execution_count": 1,
   "metadata": {},
   "outputs": [
    {
     "name": "stderr",
     "output_type": "stream",
     "text": [
      "/accounts/class/s159/s159-9/.conda/envs/demographics/lib/python3.6/site-packages/matplotlib/font_manager.py:279: UserWarning: Matplotlib is building the font cache using fc-list. This may take a moment.\n",
      "  'Matplotlib is building the font cache using fc-list. '\n"
     ]
    }
   ],
   "source": [
    "%matplotlib inline\n",
    "import numpy as np\n",
    "import pandas as pd\n",
    "import matplotlib.pyplot as plt\n",
    "import seaborn as sns\n",
    "import shelve\n",
    "import os\n",
    "from IPython.display import display\n",
    "\n",
    "sns.set_style(\"whitegrid\")\n",
    "plt.rcParams['figure.figsize'] = (15, 10)"
   ]
  },
  {
   "cell_type": "code",
   "execution_count": 2,
   "metadata": {},
   "outputs": [
    {
     "data": {
      "text/plain": [
       "(32561, 15)"
      ]
     },
     "execution_count": 2,
     "metadata": {},
     "output_type": "execute_result"
    }
   ],
   "source": [
    "adult = pd.read_csv(\"data/adult.csv\")\n",
    "adult.shape"
   ]
  },
  {
   "cell_type": "markdown",
   "metadata": {},
   "source": [
    "This seems like a nice dataset. Let's look at the first few rows."
   ]
  },
  {
   "cell_type": "code",
   "execution_count": 3,
   "metadata": {},
   "outputs": [
    {
     "data": {
      "text/html": [
       "<div>\n",
       "<style>\n",
       "    .dataframe thead tr:only-child th {\n",
       "        text-align: right;\n",
       "    }\n",
       "\n",
       "    .dataframe thead th {\n",
       "        text-align: left;\n",
       "    }\n",
       "\n",
       "    .dataframe tbody tr th {\n",
       "        vertical-align: top;\n",
       "    }\n",
       "</style>\n",
       "<table border=\"1\" class=\"dataframe\">\n",
       "  <thead>\n",
       "    <tr style=\"text-align: right;\">\n",
       "      <th></th>\n",
       "      <th>age</th>\n",
       "      <th>workclass</th>\n",
       "      <th>fnlwgt</th>\n",
       "      <th>education</th>\n",
       "      <th>education.num</th>\n",
       "      <th>marital.status</th>\n",
       "      <th>occupation</th>\n",
       "      <th>relationship</th>\n",
       "      <th>race</th>\n",
       "      <th>sex</th>\n",
       "      <th>capital.gain</th>\n",
       "      <th>capital.loss</th>\n",
       "      <th>hours.per.week</th>\n",
       "      <th>native.country</th>\n",
       "      <th>income</th>\n",
       "    </tr>\n",
       "  </thead>\n",
       "  <tbody>\n",
       "    <tr>\n",
       "      <th>0</th>\n",
       "      <td>90</td>\n",
       "      <td>?</td>\n",
       "      <td>77053</td>\n",
       "      <td>HS-grad</td>\n",
       "      <td>9</td>\n",
       "      <td>Widowed</td>\n",
       "      <td>?</td>\n",
       "      <td>Not-in-family</td>\n",
       "      <td>White</td>\n",
       "      <td>Female</td>\n",
       "      <td>0</td>\n",
       "      <td>4356</td>\n",
       "      <td>40</td>\n",
       "      <td>United-States</td>\n",
       "      <td>&lt;=50K</td>\n",
       "    </tr>\n",
       "    <tr>\n",
       "      <th>1</th>\n",
       "      <td>82</td>\n",
       "      <td>Private</td>\n",
       "      <td>132870</td>\n",
       "      <td>HS-grad</td>\n",
       "      <td>9</td>\n",
       "      <td>Widowed</td>\n",
       "      <td>Exec-managerial</td>\n",
       "      <td>Not-in-family</td>\n",
       "      <td>White</td>\n",
       "      <td>Female</td>\n",
       "      <td>0</td>\n",
       "      <td>4356</td>\n",
       "      <td>18</td>\n",
       "      <td>United-States</td>\n",
       "      <td>&lt;=50K</td>\n",
       "    </tr>\n",
       "    <tr>\n",
       "      <th>2</th>\n",
       "      <td>66</td>\n",
       "      <td>?</td>\n",
       "      <td>186061</td>\n",
       "      <td>Some-college</td>\n",
       "      <td>10</td>\n",
       "      <td>Widowed</td>\n",
       "      <td>?</td>\n",
       "      <td>Unmarried</td>\n",
       "      <td>Black</td>\n",
       "      <td>Female</td>\n",
       "      <td>0</td>\n",
       "      <td>4356</td>\n",
       "      <td>40</td>\n",
       "      <td>United-States</td>\n",
       "      <td>&lt;=50K</td>\n",
       "    </tr>\n",
       "    <tr>\n",
       "      <th>3</th>\n",
       "      <td>54</td>\n",
       "      <td>Private</td>\n",
       "      <td>140359</td>\n",
       "      <td>7th-8th</td>\n",
       "      <td>4</td>\n",
       "      <td>Divorced</td>\n",
       "      <td>Machine-op-inspct</td>\n",
       "      <td>Unmarried</td>\n",
       "      <td>White</td>\n",
       "      <td>Female</td>\n",
       "      <td>0</td>\n",
       "      <td>3900</td>\n",
       "      <td>40</td>\n",
       "      <td>United-States</td>\n",
       "      <td>&lt;=50K</td>\n",
       "    </tr>\n",
       "    <tr>\n",
       "      <th>4</th>\n",
       "      <td>41</td>\n",
       "      <td>Private</td>\n",
       "      <td>264663</td>\n",
       "      <td>Some-college</td>\n",
       "      <td>10</td>\n",
       "      <td>Separated</td>\n",
       "      <td>Prof-specialty</td>\n",
       "      <td>Own-child</td>\n",
       "      <td>White</td>\n",
       "      <td>Female</td>\n",
       "      <td>0</td>\n",
       "      <td>3900</td>\n",
       "      <td>40</td>\n",
       "      <td>United-States</td>\n",
       "      <td>&lt;=50K</td>\n",
       "    </tr>\n",
       "  </tbody>\n",
       "</table>\n",
       "</div>"
      ],
      "text/plain": [
       "   age workclass  fnlwgt     education  education.num marital.status  \\\n",
       "0   90         ?   77053       HS-grad              9        Widowed   \n",
       "1   82   Private  132870       HS-grad              9        Widowed   \n",
       "2   66         ?  186061  Some-college             10        Widowed   \n",
       "3   54   Private  140359       7th-8th              4       Divorced   \n",
       "4   41   Private  264663  Some-college             10      Separated   \n",
       "\n",
       "          occupation   relationship   race     sex  capital.gain  \\\n",
       "0                  ?  Not-in-family  White  Female             0   \n",
       "1    Exec-managerial  Not-in-family  White  Female             0   \n",
       "2                  ?      Unmarried  Black  Female             0   \n",
       "3  Machine-op-inspct      Unmarried  White  Female             0   \n",
       "4     Prof-specialty      Own-child  White  Female             0   \n",
       "\n",
       "   capital.loss  hours.per.week native.country income  \n",
       "0          4356              40  United-States  <=50K  \n",
       "1          4356              18  United-States  <=50K  \n",
       "2          4356              40  United-States  <=50K  \n",
       "3          3900              40  United-States  <=50K  \n",
       "4          3900              40  United-States  <=50K  "
      ]
     },
     "execution_count": 3,
     "metadata": {},
     "output_type": "execute_result"
    }
   ],
   "source": [
    "adult.head()"
   ]
  },
  {
   "cell_type": "markdown",
   "metadata": {},
   "source": [
    "Let's also look at the unique values each column has."
   ]
  },
  {
   "cell_type": "code",
   "execution_count": 4,
   "metadata": {},
   "outputs": [
    {
     "name": "stdout",
     "output_type": "stream",
     "text": [
      "Unique Values in Column age\n"
     ]
    },
    {
     "data": {
      "text/plain": [
       "array([90, 82, 66, 54, 41, 34, 38, 74, 68, 45, 52, 32, 51, 46, 57, 22, 37,\n",
       "       29, 61, 21, 33, 49, 23, 59, 60, 63, 53, 44, 43, 71, 48, 73, 67, 40,\n",
       "       50, 42, 39, 55, 47, 31, 58, 62, 36, 72, 78, 83, 26, 70, 27, 35, 81,\n",
       "       65, 25, 28, 56, 69, 20, 30, 24, 64, 75, 19, 77, 80, 18, 17, 76, 79,\n",
       "       88, 84, 85, 86, 87])"
      ]
     },
     "metadata": {},
     "output_type": "display_data"
    },
    {
     "name": "stdout",
     "output_type": "stream",
     "text": [
      "\n",
      "Unique Values in Column workclass\n"
     ]
    },
    {
     "data": {
      "text/plain": [
       "array(['?', 'Private', 'State-gov', 'Federal-gov', 'Self-emp-not-inc',\n",
       "       'Self-emp-inc', 'Local-gov', 'Without-pay', 'Never-worked'], dtype=object)"
      ]
     },
     "metadata": {},
     "output_type": "display_data"
    },
    {
     "name": "stdout",
     "output_type": "stream",
     "text": [
      "\n",
      "Unique Values in Column fnlwgt\n"
     ]
    },
    {
     "data": {
      "text/plain": [
       "array([ 77053, 132870, 186061, ...,  34066,  84661, 257302])"
      ]
     },
     "metadata": {},
     "output_type": "display_data"
    },
    {
     "name": "stdout",
     "output_type": "stream",
     "text": [
      "\n",
      "Unique Values in Column education\n"
     ]
    },
    {
     "data": {
      "text/plain": [
       "array(['HS-grad', 'Some-college', '7th-8th', '10th', 'Doctorate',\n",
       "       'Prof-school', 'Bachelors', 'Masters', '11th', 'Assoc-acdm',\n",
       "       'Assoc-voc', '1st-4th', '5th-6th', '12th', '9th', 'Preschool'], dtype=object)"
      ]
     },
     "metadata": {},
     "output_type": "display_data"
    },
    {
     "name": "stdout",
     "output_type": "stream",
     "text": [
      "\n",
      "Unique Values in Column education.num\n"
     ]
    },
    {
     "data": {
      "text/plain": [
       "array([ 9, 10,  4,  6, 16, 15, 13, 14,  7, 12, 11,  2,  3,  8,  5,  1])"
      ]
     },
     "metadata": {},
     "output_type": "display_data"
    },
    {
     "name": "stdout",
     "output_type": "stream",
     "text": [
      "\n",
      "Unique Values in Column marital.status\n"
     ]
    },
    {
     "data": {
      "text/plain": [
       "array(['Widowed', 'Divorced', 'Separated', 'Never-married',\n",
       "       'Married-civ-spouse', 'Married-spouse-absent', 'Married-AF-spouse'], dtype=object)"
      ]
     },
     "metadata": {},
     "output_type": "display_data"
    },
    {
     "name": "stdout",
     "output_type": "stream",
     "text": [
      "\n",
      "Unique Values in Column occupation\n"
     ]
    },
    {
     "data": {
      "text/plain": [
       "array(['?', 'Exec-managerial', 'Machine-op-inspct', 'Prof-specialty',\n",
       "       'Other-service', 'Adm-clerical', 'Craft-repair', 'Transport-moving',\n",
       "       'Handlers-cleaners', 'Sales', 'Farming-fishing', 'Tech-support',\n",
       "       'Protective-serv', 'Armed-Forces', 'Priv-house-serv'], dtype=object)"
      ]
     },
     "metadata": {},
     "output_type": "display_data"
    },
    {
     "name": "stdout",
     "output_type": "stream",
     "text": [
      "\n",
      "Unique Values in Column relationship\n"
     ]
    },
    {
     "data": {
      "text/plain": [
       "array(['Not-in-family', 'Unmarried', 'Own-child', 'Other-relative',\n",
       "       'Husband', 'Wife'], dtype=object)"
      ]
     },
     "metadata": {},
     "output_type": "display_data"
    },
    {
     "name": "stdout",
     "output_type": "stream",
     "text": [
      "\n",
      "Unique Values in Column race\n"
     ]
    },
    {
     "data": {
      "text/plain": [
       "array(['White', 'Black', 'Asian-Pac-Islander', 'Other',\n",
       "       'Amer-Indian-Eskimo'], dtype=object)"
      ]
     },
     "metadata": {},
     "output_type": "display_data"
    },
    {
     "name": "stdout",
     "output_type": "stream",
     "text": [
      "\n",
      "Unique Values in Column sex\n"
     ]
    },
    {
     "data": {
      "text/plain": [
       "array(['Female', 'Male'], dtype=object)"
      ]
     },
     "metadata": {},
     "output_type": "display_data"
    },
    {
     "name": "stdout",
     "output_type": "stream",
     "text": [
      "\n",
      "Unique Values in Column capital.gain\n"
     ]
    },
    {
     "data": {
      "text/plain": [
       "array([    0, 99999, 41310, 34095, 27828, 25236, 25124, 22040, 20051,\n",
       "       18481, 15831, 15024, 15020, 14344, 14084, 13550, 11678, 10605,\n",
       "       10566, 10520,  9562,  9386,  8614,  7978,  7896,  7688,  7443,\n",
       "        7430,  7298,  6849,  6767,  6723,  6514,  6497,  6418,  6360,\n",
       "        6097,  5721,  5556,  5455,  5178,  5060,  5013,  4934,  4931,\n",
       "        4865,  4787,  4687,  4650,  4508,  4416,  4386,  4101,  4064,\n",
       "        3942,  3908,  3887,  3818,  3781,  3674,  3471,  3464,  3456,\n",
       "        3432,  3418,  3411,  3325,  3273,  3137,  3103,  2993,  2977,\n",
       "        2964,  2961,  2936,  2907,  2885,  2829,  2653,  2635,  2597,\n",
       "        2580,  2538,  2463,  2414,  2407,  2387,  2354,  2346,  2329,\n",
       "        2290,  2228,  2202,  2176,  2174,  2105,  2062,  2050,  2036,\n",
       "        2009,  1848,  1831,  1797,  1639,  1506,  1471,  1455,  1424,\n",
       "        1409,  1173,  1151,  1111,  1086,  1055,   991,   914,   594,\n",
       "         401,   114])"
      ]
     },
     "metadata": {},
     "output_type": "display_data"
    },
    {
     "name": "stdout",
     "output_type": "stream",
     "text": [
      "\n",
      "Unique Values in Column capital.loss\n"
     ]
    },
    {
     "data": {
      "text/plain": [
       "array([4356, 3900, 3770, 3683, 3004, 2824, 2754, 2603, 2559, 2547, 2489,\n",
       "       2472, 2467, 2457, 2444, 2415, 2392, 2377, 2352, 2339, 2282, 2267,\n",
       "       2258, 2246, 2238, 2231, 2206, 2205, 2201, 2179, 2174, 2163, 2149,\n",
       "       2129, 2080, 2057, 2051, 2042, 2002, 2001, 1980, 1977, 1974, 1944,\n",
       "       1902, 1887, 1876, 1848, 1844, 1825, 1816, 1762, 1755, 1741, 1740,\n",
       "       1735, 1726, 1721, 1719, 1672, 1669, 1668, 1651, 1648, 1628, 1617,\n",
       "       1602, 1594, 1590, 1579, 1573, 1564, 1539, 1504, 1485, 1411, 1408,\n",
       "       1380, 1340, 1258, 1138, 1092,  974,  880,  810,  653,  625,  419,\n",
       "        323,  213,  155,    0])"
      ]
     },
     "metadata": {},
     "output_type": "display_data"
    },
    {
     "name": "stdout",
     "output_type": "stream",
     "text": [
      "\n",
      "Unique Values in Column hours.per.week\n"
     ]
    },
    {
     "data": {
      "text/plain": [
       "array([40, 18, 45, 20, 60, 35, 55, 76, 50, 42, 25, 32, 90, 48, 15, 70, 52,\n",
       "       72, 39,  6, 65, 12, 80, 67, 99, 30, 75, 26, 36, 10, 84, 38, 62, 44,\n",
       "        8, 28, 59,  5, 24, 57, 34, 37, 46, 56, 41, 98, 43, 63,  1, 47, 68,\n",
       "       54,  2, 16,  9,  3,  4, 33, 23, 22, 64, 51, 19, 58, 53, 96, 66, 21,\n",
       "        7, 13, 27, 11, 14, 77, 31, 78, 49, 17, 85, 87, 88, 73, 89, 97, 94,\n",
       "       29, 82, 86, 91, 81, 92, 61, 74, 95])"
      ]
     },
     "metadata": {},
     "output_type": "display_data"
    },
    {
     "name": "stdout",
     "output_type": "stream",
     "text": [
      "\n",
      "Unique Values in Column native.country\n"
     ]
    },
    {
     "data": {
      "text/plain": [
       "array(['United-States', '?', 'Mexico', 'Greece', 'Vietnam', 'China',\n",
       "       'Taiwan', 'India', 'Philippines', 'Trinadad&Tobago', 'Canada',\n",
       "       'South', 'Holand-Netherlands', 'Puerto-Rico', 'Poland', 'Iran',\n",
       "       'England', 'Germany', 'Italy', 'Japan', 'Hong', 'Honduras', 'Cuba',\n",
       "       'Ireland', 'Cambodia', 'Peru', 'Nicaragua', 'Dominican-Republic',\n",
       "       'Haiti', 'El-Salvador', 'Hungary', 'Columbia', 'Guatemala',\n",
       "       'Jamaica', 'Ecuador', 'France', 'Yugoslavia', 'Scotland',\n",
       "       'Portugal', 'Laos', 'Thailand', 'Outlying-US(Guam-USVI-etc)'], dtype=object)"
      ]
     },
     "metadata": {},
     "output_type": "display_data"
    },
    {
     "name": "stdout",
     "output_type": "stream",
     "text": [
      "\n",
      "Unique Values in Column income\n"
     ]
    },
    {
     "data": {
      "text/plain": [
       "array(['<=50K', '>50K'], dtype=object)"
      ]
     },
     "metadata": {},
     "output_type": "display_data"
    },
    {
     "name": "stdout",
     "output_type": "stream",
     "text": [
      "\n"
     ]
    }
   ],
   "source": [
    "for column in adult.columns:\n",
    "    print(\"Unique Values in Column \" + column)\n",
    "    display(adult[column].unique())\n",
    "    print(\"\")"
   ]
  },
  {
   "cell_type": "markdown",
   "metadata": {},
   "source": [
    "There are missing values in workclass, occupation, and native country. There do no seem to be missing values (N/A) for the quantitative columns. Exactly how many total rows are there where there is missing information?"
   ]
  },
  {
   "cell_type": "code",
   "execution_count": 5,
   "metadata": {},
   "outputs": [],
   "source": [
    "def find_indices_with_value(df, value):\n",
    "    \"\"\"Return the row indices of a Pandas Dataframe where the row contains the given value.\n",
    "    \n",
    "    Parameters\n",
    "    ----------\n",
    "    \n",
    "    df: Pandas Dataframe\n",
    "    value: value we want to see if row contains\n",
    "    \n",
    "    Return\n",
    "    ------\n",
    "    array\n",
    "        An integer array where each value is the row index of a row that contains the value\n",
    "        \n",
    "    Example\n",
    "    -------\n",
    "    \n",
    "    >>> row0 = [\">\", \"?\", \"!\"]\n",
    "    ... df = pd.DataFrame([row0])\n",
    "    ... find_indices_with_value(df, \"?\")\n",
    "    array([0])\n",
    "    \"\"\"    \n",
    "    \n",
    "    rows = []\n",
    "    for index, row in df.iterrows():\n",
    "        if value in row.unique():\n",
    "            rows.append(index)\n",
    "    return np.array(rows)"
   ]
  },
  {
   "cell_type": "markdown",
   "metadata": {},
   "source": [
    "Note: We saved this function to a .py file for later notebook uses just through copying and pasting. We could not find a way to automatically save this function as a .py file to facilitate reproducibility, but maybe it exists!"
   ]
  },
  {
   "cell_type": "code",
   "execution_count": 6,
   "metadata": {
    "scrolled": true
   },
   "outputs": [
    {
     "data": {
      "text/plain": [
       "2399"
      ]
     },
     "execution_count": 6,
     "metadata": {},
     "output_type": "execute_result"
    }
   ],
   "source": [
    "missing_ind = find_indices_with_value(adult, \"?\")\n",
    "len(missing_ind)"
   ]
  },
  {
   "cell_type": "markdown",
   "metadata": {},
   "source": [
    "There are 2399 rows where there is missing information. We believe this is an insignificant amount that will not affect our analysis if we delete them. Let's see if this is true."
   ]
  },
  {
   "cell_type": "code",
   "execution_count": 7,
   "metadata": {},
   "outputs": [
    {
     "data": {
      "text/html": [
       "<div>\n",
       "<style>\n",
       "    .dataframe thead tr:only-child th {\n",
       "        text-align: right;\n",
       "    }\n",
       "\n",
       "    .dataframe thead th {\n",
       "        text-align: left;\n",
       "    }\n",
       "\n",
       "    .dataframe tbody tr th {\n",
       "        vertical-align: top;\n",
       "    }\n",
       "</style>\n",
       "<table border=\"1\" class=\"dataframe\">\n",
       "  <thead>\n",
       "    <tr style=\"text-align: right;\">\n",
       "      <th></th>\n",
       "      <th>age</th>\n",
       "      <th>workclass</th>\n",
       "      <th>fnlwgt</th>\n",
       "      <th>education</th>\n",
       "      <th>education.num</th>\n",
       "      <th>marital.status</th>\n",
       "      <th>occupation</th>\n",
       "      <th>relationship</th>\n",
       "      <th>race</th>\n",
       "      <th>sex</th>\n",
       "      <th>capital.gain</th>\n",
       "      <th>capital.loss</th>\n",
       "      <th>hours.per.week</th>\n",
       "      <th>native.country</th>\n",
       "      <th>income</th>\n",
       "    </tr>\n",
       "  </thead>\n",
       "  <tbody>\n",
       "    <tr>\n",
       "      <th>0</th>\n",
       "      <td>82</td>\n",
       "      <td>Private</td>\n",
       "      <td>132870</td>\n",
       "      <td>HS-grad</td>\n",
       "      <td>9</td>\n",
       "      <td>Widowed</td>\n",
       "      <td>Exec-managerial</td>\n",
       "      <td>Not-in-family</td>\n",
       "      <td>White</td>\n",
       "      <td>Female</td>\n",
       "      <td>0</td>\n",
       "      <td>4356</td>\n",
       "      <td>18</td>\n",
       "      <td>United-States</td>\n",
       "      <td>&lt;=50K</td>\n",
       "    </tr>\n",
       "    <tr>\n",
       "      <th>1</th>\n",
       "      <td>54</td>\n",
       "      <td>Private</td>\n",
       "      <td>140359</td>\n",
       "      <td>7th-8th</td>\n",
       "      <td>4</td>\n",
       "      <td>Divorced</td>\n",
       "      <td>Machine-op-inspct</td>\n",
       "      <td>Unmarried</td>\n",
       "      <td>White</td>\n",
       "      <td>Female</td>\n",
       "      <td>0</td>\n",
       "      <td>3900</td>\n",
       "      <td>40</td>\n",
       "      <td>United-States</td>\n",
       "      <td>&lt;=50K</td>\n",
       "    </tr>\n",
       "    <tr>\n",
       "      <th>2</th>\n",
       "      <td>41</td>\n",
       "      <td>Private</td>\n",
       "      <td>264663</td>\n",
       "      <td>Some-college</td>\n",
       "      <td>10</td>\n",
       "      <td>Separated</td>\n",
       "      <td>Prof-specialty</td>\n",
       "      <td>Own-child</td>\n",
       "      <td>White</td>\n",
       "      <td>Female</td>\n",
       "      <td>0</td>\n",
       "      <td>3900</td>\n",
       "      <td>40</td>\n",
       "      <td>United-States</td>\n",
       "      <td>&lt;=50K</td>\n",
       "    </tr>\n",
       "    <tr>\n",
       "      <th>3</th>\n",
       "      <td>34</td>\n",
       "      <td>Private</td>\n",
       "      <td>216864</td>\n",
       "      <td>HS-grad</td>\n",
       "      <td>9</td>\n",
       "      <td>Divorced</td>\n",
       "      <td>Other-service</td>\n",
       "      <td>Unmarried</td>\n",
       "      <td>White</td>\n",
       "      <td>Female</td>\n",
       "      <td>0</td>\n",
       "      <td>3770</td>\n",
       "      <td>45</td>\n",
       "      <td>United-States</td>\n",
       "      <td>&lt;=50K</td>\n",
       "    </tr>\n",
       "    <tr>\n",
       "      <th>4</th>\n",
       "      <td>38</td>\n",
       "      <td>Private</td>\n",
       "      <td>150601</td>\n",
       "      <td>10th</td>\n",
       "      <td>6</td>\n",
       "      <td>Separated</td>\n",
       "      <td>Adm-clerical</td>\n",
       "      <td>Unmarried</td>\n",
       "      <td>White</td>\n",
       "      <td>Male</td>\n",
       "      <td>0</td>\n",
       "      <td>3770</td>\n",
       "      <td>40</td>\n",
       "      <td>United-States</td>\n",
       "      <td>&lt;=50K</td>\n",
       "    </tr>\n",
       "  </tbody>\n",
       "</table>\n",
       "</div>"
      ],
      "text/plain": [
       "   age workclass  fnlwgt     education  education.num marital.status  \\\n",
       "0   82   Private  132870       HS-grad              9        Widowed   \n",
       "1   54   Private  140359       7th-8th              4       Divorced   \n",
       "2   41   Private  264663  Some-college             10      Separated   \n",
       "3   34   Private  216864       HS-grad              9       Divorced   \n",
       "4   38   Private  150601          10th              6      Separated   \n",
       "\n",
       "          occupation   relationship   race     sex  capital.gain  \\\n",
       "0    Exec-managerial  Not-in-family  White  Female             0   \n",
       "1  Machine-op-inspct      Unmarried  White  Female             0   \n",
       "2     Prof-specialty      Own-child  White  Female             0   \n",
       "3      Other-service      Unmarried  White  Female             0   \n",
       "4       Adm-clerical      Unmarried  White    Male             0   \n",
       "\n",
       "   capital.loss  hours.per.week native.country income  \n",
       "0          4356              18  United-States  <=50K  \n",
       "1          3900              40  United-States  <=50K  \n",
       "2          3900              40  United-States  <=50K  \n",
       "3          3770              45  United-States  <=50K  \n",
       "4          3770              40  United-States  <=50K  "
      ]
     },
     "execution_count": 7,
     "metadata": {},
     "output_type": "execute_result"
    }
   ],
   "source": [
    "clean_adult = adult.drop(missing_ind).reset_index(drop = True)\n",
    "clean_adult.head()"
   ]
  },
  {
   "cell_type": "code",
   "execution_count": 8,
   "metadata": {},
   "outputs": [
    {
     "name": "stdout",
     "output_type": "stream",
     "text": [
      "Adult\n"
     ]
    },
    {
     "data": {
      "text/html": [
       "<div>\n",
       "<style>\n",
       "    .dataframe thead tr:only-child th {\n",
       "        text-align: right;\n",
       "    }\n",
       "\n",
       "    .dataframe thead th {\n",
       "        text-align: left;\n",
       "    }\n",
       "\n",
       "    .dataframe tbody tr th {\n",
       "        vertical-align: top;\n",
       "    }\n",
       "</style>\n",
       "<table border=\"1\" class=\"dataframe\">\n",
       "  <thead>\n",
       "    <tr style=\"text-align: right;\">\n",
       "      <th></th>\n",
       "      <th>age</th>\n",
       "      <th>fnlwgt</th>\n",
       "      <th>education.num</th>\n",
       "      <th>capital.gain</th>\n",
       "      <th>capital.loss</th>\n",
       "      <th>hours.per.week</th>\n",
       "    </tr>\n",
       "  </thead>\n",
       "  <tbody>\n",
       "    <tr>\n",
       "      <th>count</th>\n",
       "      <td>32561.000000</td>\n",
       "      <td>3.256100e+04</td>\n",
       "      <td>32561.000000</td>\n",
       "      <td>32561.000000</td>\n",
       "      <td>32561.000000</td>\n",
       "      <td>32561.000000</td>\n",
       "    </tr>\n",
       "    <tr>\n",
       "      <th>mean</th>\n",
       "      <td>38.581647</td>\n",
       "      <td>1.897784e+05</td>\n",
       "      <td>10.080679</td>\n",
       "      <td>1077.648844</td>\n",
       "      <td>87.303830</td>\n",
       "      <td>40.437456</td>\n",
       "    </tr>\n",
       "    <tr>\n",
       "      <th>std</th>\n",
       "      <td>13.640433</td>\n",
       "      <td>1.055500e+05</td>\n",
       "      <td>2.572720</td>\n",
       "      <td>7385.292085</td>\n",
       "      <td>402.960219</td>\n",
       "      <td>12.347429</td>\n",
       "    </tr>\n",
       "    <tr>\n",
       "      <th>min</th>\n",
       "      <td>17.000000</td>\n",
       "      <td>1.228500e+04</td>\n",
       "      <td>1.000000</td>\n",
       "      <td>0.000000</td>\n",
       "      <td>0.000000</td>\n",
       "      <td>1.000000</td>\n",
       "    </tr>\n",
       "    <tr>\n",
       "      <th>25%</th>\n",
       "      <td>28.000000</td>\n",
       "      <td>1.178270e+05</td>\n",
       "      <td>9.000000</td>\n",
       "      <td>0.000000</td>\n",
       "      <td>0.000000</td>\n",
       "      <td>40.000000</td>\n",
       "    </tr>\n",
       "    <tr>\n",
       "      <th>50%</th>\n",
       "      <td>37.000000</td>\n",
       "      <td>1.783560e+05</td>\n",
       "      <td>10.000000</td>\n",
       "      <td>0.000000</td>\n",
       "      <td>0.000000</td>\n",
       "      <td>40.000000</td>\n",
       "    </tr>\n",
       "    <tr>\n",
       "      <th>75%</th>\n",
       "      <td>48.000000</td>\n",
       "      <td>2.370510e+05</td>\n",
       "      <td>12.000000</td>\n",
       "      <td>0.000000</td>\n",
       "      <td>0.000000</td>\n",
       "      <td>45.000000</td>\n",
       "    </tr>\n",
       "    <tr>\n",
       "      <th>max</th>\n",
       "      <td>90.000000</td>\n",
       "      <td>1.484705e+06</td>\n",
       "      <td>16.000000</td>\n",
       "      <td>99999.000000</td>\n",
       "      <td>4356.000000</td>\n",
       "      <td>99.000000</td>\n",
       "    </tr>\n",
       "  </tbody>\n",
       "</table>\n",
       "</div>"
      ],
      "text/plain": [
       "                age        fnlwgt  education.num  capital.gain  capital.loss  \\\n",
       "count  32561.000000  3.256100e+04   32561.000000  32561.000000  32561.000000   \n",
       "mean      38.581647  1.897784e+05      10.080679   1077.648844     87.303830   \n",
       "std       13.640433  1.055500e+05       2.572720   7385.292085    402.960219   \n",
       "min       17.000000  1.228500e+04       1.000000      0.000000      0.000000   \n",
       "25%       28.000000  1.178270e+05       9.000000      0.000000      0.000000   \n",
       "50%       37.000000  1.783560e+05      10.000000      0.000000      0.000000   \n",
       "75%       48.000000  2.370510e+05      12.000000      0.000000      0.000000   \n",
       "max       90.000000  1.484705e+06      16.000000  99999.000000   4356.000000   \n",
       "\n",
       "       hours.per.week  \n",
       "count    32561.000000  \n",
       "mean        40.437456  \n",
       "std         12.347429  \n",
       "min          1.000000  \n",
       "25%         40.000000  \n",
       "50%         40.000000  \n",
       "75%         45.000000  \n",
       "max         99.000000  "
      ]
     },
     "metadata": {},
     "output_type": "display_data"
    },
    {
     "name": "stdout",
     "output_type": "stream",
     "text": [
      "\n",
      "Clean Adult\n"
     ]
    },
    {
     "data": {
      "text/html": [
       "<div>\n",
       "<style>\n",
       "    .dataframe thead tr:only-child th {\n",
       "        text-align: right;\n",
       "    }\n",
       "\n",
       "    .dataframe thead th {\n",
       "        text-align: left;\n",
       "    }\n",
       "\n",
       "    .dataframe tbody tr th {\n",
       "        vertical-align: top;\n",
       "    }\n",
       "</style>\n",
       "<table border=\"1\" class=\"dataframe\">\n",
       "  <thead>\n",
       "    <tr style=\"text-align: right;\">\n",
       "      <th></th>\n",
       "      <th>age</th>\n",
       "      <th>fnlwgt</th>\n",
       "      <th>education.num</th>\n",
       "      <th>capital.gain</th>\n",
       "      <th>capital.loss</th>\n",
       "      <th>hours.per.week</th>\n",
       "    </tr>\n",
       "  </thead>\n",
       "  <tbody>\n",
       "    <tr>\n",
       "      <th>count</th>\n",
       "      <td>30162.000000</td>\n",
       "      <td>3.016200e+04</td>\n",
       "      <td>30162.000000</td>\n",
       "      <td>30162.000000</td>\n",
       "      <td>30162.000000</td>\n",
       "      <td>30162.000000</td>\n",
       "    </tr>\n",
       "    <tr>\n",
       "      <th>mean</th>\n",
       "      <td>38.437902</td>\n",
       "      <td>1.897938e+05</td>\n",
       "      <td>10.121312</td>\n",
       "      <td>1092.007858</td>\n",
       "      <td>88.372489</td>\n",
       "      <td>40.931238</td>\n",
       "    </tr>\n",
       "    <tr>\n",
       "      <th>std</th>\n",
       "      <td>13.134665</td>\n",
       "      <td>1.056530e+05</td>\n",
       "      <td>2.549995</td>\n",
       "      <td>7406.346497</td>\n",
       "      <td>404.298370</td>\n",
       "      <td>11.979984</td>\n",
       "    </tr>\n",
       "    <tr>\n",
       "      <th>min</th>\n",
       "      <td>17.000000</td>\n",
       "      <td>1.376900e+04</td>\n",
       "      <td>1.000000</td>\n",
       "      <td>0.000000</td>\n",
       "      <td>0.000000</td>\n",
       "      <td>1.000000</td>\n",
       "    </tr>\n",
       "    <tr>\n",
       "      <th>25%</th>\n",
       "      <td>28.000000</td>\n",
       "      <td>1.176272e+05</td>\n",
       "      <td>9.000000</td>\n",
       "      <td>0.000000</td>\n",
       "      <td>0.000000</td>\n",
       "      <td>40.000000</td>\n",
       "    </tr>\n",
       "    <tr>\n",
       "      <th>50%</th>\n",
       "      <td>37.000000</td>\n",
       "      <td>1.784250e+05</td>\n",
       "      <td>10.000000</td>\n",
       "      <td>0.000000</td>\n",
       "      <td>0.000000</td>\n",
       "      <td>40.000000</td>\n",
       "    </tr>\n",
       "    <tr>\n",
       "      <th>75%</th>\n",
       "      <td>47.000000</td>\n",
       "      <td>2.376285e+05</td>\n",
       "      <td>13.000000</td>\n",
       "      <td>0.000000</td>\n",
       "      <td>0.000000</td>\n",
       "      <td>45.000000</td>\n",
       "    </tr>\n",
       "    <tr>\n",
       "      <th>max</th>\n",
       "      <td>90.000000</td>\n",
       "      <td>1.484705e+06</td>\n",
       "      <td>16.000000</td>\n",
       "      <td>99999.000000</td>\n",
       "      <td>4356.000000</td>\n",
       "      <td>99.000000</td>\n",
       "    </tr>\n",
       "  </tbody>\n",
       "</table>\n",
       "</div>"
      ],
      "text/plain": [
       "                age        fnlwgt  education.num  capital.gain  capital.loss  \\\n",
       "count  30162.000000  3.016200e+04   30162.000000  30162.000000  30162.000000   \n",
       "mean      38.437902  1.897938e+05      10.121312   1092.007858     88.372489   \n",
       "std       13.134665  1.056530e+05       2.549995   7406.346497    404.298370   \n",
       "min       17.000000  1.376900e+04       1.000000      0.000000      0.000000   \n",
       "25%       28.000000  1.176272e+05       9.000000      0.000000      0.000000   \n",
       "50%       37.000000  1.784250e+05      10.000000      0.000000      0.000000   \n",
       "75%       47.000000  2.376285e+05      13.000000      0.000000      0.000000   \n",
       "max       90.000000  1.484705e+06      16.000000  99999.000000   4356.000000   \n",
       "\n",
       "       hours.per.week  \n",
       "count    30162.000000  \n",
       "mean        40.931238  \n",
       "std         11.979984  \n",
       "min          1.000000  \n",
       "25%         40.000000  \n",
       "50%         40.000000  \n",
       "75%         45.000000  \n",
       "max         99.000000  "
      ]
     },
     "metadata": {},
     "output_type": "display_data"
    }
   ],
   "source": [
    "print(\"Adult\")\n",
    "display(adult.describe())\n",
    "print(\"\")\n",
    "print(\"Clean Adult\")\n",
    "display(clean_adult.describe())"
   ]
  },
  {
   "cell_type": "code",
   "execution_count": 9,
   "metadata": {},
   "outputs": [
    {
     "name": "stdout",
     "output_type": "stream",
     "text": [
      "Adult Male Percentage: 0.669205491232\n",
      "Clean Adult Male Percentage: 0.675684636297\n",
      "Adult White Percentage: 0.854273517398\n",
      "Clean Adult White Percentage: 0.859790464823\n"
     ]
    }
   ],
   "source": [
    "males = (adult[\"sex\"] == \"Male\")\n",
    "clean_males = (clean_adult[\"sex\"] == \"Male\")\n",
    "print(\"Adult Male Percentage: \" + str(males.sum() / len(males)))\n",
    "print(\"Clean Adult Male Percentage: \" + str(clean_males.sum() / len(clean_males)))\n",
    "white = (adult[\"race\"] == \"White\")\n",
    "clean_white = (clean_adult[\"race\"] == \"White\")\n",
    "print(\"Adult White Percentage: \" + str(white.sum() / len(white)))\n",
    "print(\"Clean Adult White Percentage: \" + str(clean_white.sum() / len(clean_white)))"
   ]
  },
  {
   "cell_type": "markdown",
   "metadata": {},
   "source": [
    "The summary statistics did not change much, so we will indeed exclude these rows from our analysis.\n",
    "\n",
    "Now, let us visualize some of these columns. Because there are so many native countries, we will begrudgingly use a pie chart instead of a bar chart. We are not using it to make any inferences, so it is fine to do so."
   ]
  },
  {
   "cell_type": "code",
   "execution_count": 10,
   "metadata": {},
   "outputs": [
    {
     "data": {
      "image/png": "[encoded data removed]",
      "text/plain": [
       "<matplotlib.figure.Figure at 0x7f28b6503400>"
      ]
     },
     "metadata": {},
     "output_type": "display_data"
    }
   ],
   "source": [
    "fig, axes = plt.subplots(nrows=3, ncols=2)\n",
    "\n",
    "ax1 = axes[0, 0]\n",
    "sns.distplot(clean_adult[\"age\"], bins = 20, ax = ax1)\n",
    "ax1.set_title(\"Distribution of Age\")\n",
    "ax1.set_xlabel(\"Age\", fontsize = 8)\n",
    "ax1.set_ylabel(\"Relative Frequency\")\n",
    "ax1.grid(False)\n",
    "\n",
    "ax2 = axes[0, 1]\n",
    "sns.distplot(clean_adult[\"education.num\"], bins = 18, ax = ax2)\n",
    "ax2.set_title(\"Distribution of Years of Education\")\n",
    "ax2.set_xlabel(\"Years of Education\", fontsize = 8)\n",
    "ax2.set_ylabel(\"Relative Frequency\")\n",
    "ax2.grid(False)\n",
    "\n",
    "ax3 = axes[1, 0]\n",
    "counts = clean_adult[\"marital.status\"].value_counts()\n",
    "percents = 100 * counts.values/counts.values.sum()\n",
    "ind = np.arange(len(percents))  \n",
    "width = 0.35  \n",
    "rects = ax3.bar(ind, percents, width)\n",
    "ax3.set_ylabel(\"Percentage of Individuals\")\n",
    "ax3.set_xticks(ind)\n",
    "ax3.set_xticklabels(counts.index, fontsize = 8, rotation = 15)\n",
    "ax3.set_title(\"Marital Status\", y = 0.95)\n",
    "ax3.grid(False)\n",
    "\n",
    "ax4 = axes[1, 1]\n",
    "counts = clean_adult[\"race\"].value_counts()\n",
    "percents = 100 * counts.values/counts.values.sum()\n",
    "ind = np.arange(len(percents))  \n",
    "width = 0.35  \n",
    "rects = ax4.bar(ind, percents, width)\n",
    "ax4.set_ylabel(\"Percentage of Individuals\")\n",
    "ax4.set_xticks(ind)\n",
    "ax4.set_xticklabels(counts.index, fontsize = 8)\n",
    "ax4.set_title(\"Race\", y = 0.95)\n",
    "ax4.grid(False)\n",
    "\n",
    "ax5 = axes[2, 0]\n",
    "counts = clean_adult[\"sex\"].value_counts()\n",
    "percents = 100 * counts.values/counts.values.sum()\n",
    "ind = np.arange(len(percents))  \n",
    "width = 0.35  \n",
    "rects = ax5.bar(ind, percents, width)\n",
    "ax5.set_ylabel(\"Percentage of Individuals\")\n",
    "ax5.set_xticks(ind)\n",
    "ax5.set_xticklabels(counts.index, fontsize = 10)\n",
    "ax5.set_title(\"Sex\", y = 0.95)\n",
    "ax5.grid(False)\n",
    "\n",
    "ax6 = axes[2, 1]\n",
    "counts = clean_adult[\"native.country\"].value_counts()\n",
    "percents = 100 * counts.values/counts.values.sum()\n",
    "patches, texts = ax6.pie(percents, shadow=True, startangle=90)\n",
    "ax6.axis(\"equal\")\n",
    "labels = ['{0} - {1:1.2f} %'.format(i,j) for i,j in zip(counts.index, percents)]\n",
    "ax6.legend(patches, labels, loc=\"right\", ncol = 2, bbox_to_anchor=(1.6, 0.4),\n",
    "           fontsize=8)\n",
    "ax6.set_title(\"Native Country\")\n",
    "ax6.grid(False)\n",
    "\n",
    "os.makedirs(\"fig\", exist_ok=True)\n",
    "fig.savefig(\"fig/columns.png\", bbox_inches='tight')"
   ]
  },
  {
   "cell_type": "markdown",
   "metadata": {},
   "source": [
    "There are a couple of interesting observations: \n",
    "* The distribution of ages is skewed to the right, which should not surprise us since as individuals get older, they leave the labor force. \n",
    "* The years of educations since 4th grade seem to have 2 peaks, one at 9 and one at 13. 9 years of education since 4th grade means the individual has graduated high school, while 13 years of education since 4th grade means the individual has graduated college. It is no surprise that most people in this dataset have a high school education or higher. \n",
    "* About 50% of the individuals in the dataset are married.\n",
    "* About 85% of the individuals in the dataset identified as White. This likely include Hispanics too. \n",
    "* About 2/3 of the individuals in the dataset were male, while 1/3 of the individuals in the dataset were female. Since it was the 1994, the female labor participation was still pretty low. Now around 47 percent of the labor force is female."
   ]
  },
  {
   "cell_type": "code",
   "execution_count": 11,
   "metadata": {},
   "outputs": [],
   "source": [
    "os.makedirs(\"results\", exist_ok=True) #Make results directory if it does not exist yet\n",
    "adult.to_hdf('results/df1.h5', 'adult')\n",
    "clean_adult.to_hdf('results/df1.h5', 'clean_adult')"
   ]
  },
  {
   "cell_type": "markdown",
   "metadata": {},
   "source": [
    "**Testing Section**"
   ]
  },
  {
   "cell_type": "code",
   "execution_count": 12,
   "metadata": {},
   "outputs": [],
   "source": [
    "import unittest"
   ]
  },
  {
   "cell_type": "code",
   "execution_count": 13,
   "metadata": {},
   "outputs": [],
   "source": [
    "class MyTests(unittest.TestCase):\n",
    "    \n",
    "    def test_multiple_missing_indices(self):\n",
    "        row0 = [\">\", \"\", \"!\"]\n",
    "        row1 = [\"3\", \"1\", \"?\"]\n",
    "        row2 = [\"?\", \"10\", \"hello\"]\n",
    "        row3 = [\"my\", \"name\", \"is\"]\n",
    "        df = pd.DataFrame([row0, row1, row2, row3])\n",
    "        missing = find_indices_with_value(df, \"?\")\n",
    "        np.testing.assert_equal(missing, np.array([1, 2]))\n",
    "        \n",
    "    def test_no_missing_indices(self):\n",
    "        row0 = [\">\", \"\", \"!\"]\n",
    "        row1 = [\"3\", \"1\", \"4\"]\n",
    "        row2 = [\"6\", \"10\", \"hello\"]\n",
    "        row3 = [\"my\", \"name\", \"is\"]\n",
    "        df = pd.DataFrame([row0, row1, row2, row3])\n",
    "        missing = find_indices_with_value(df, \"?\")\n",
    "        np.testing.assert_equal(missing, np.array([]))\n",
    "        \n",
    "    def test_one_missing_index(self):\n",
    "        row0 = [\">\", \"\", \"!\"]\n",
    "        row1 = [\"3\", \"1\", \"4\"]\n",
    "        row2 = [\"6\", \"10\", \"hello\"]\n",
    "        row3 = [\"my\", \"name\", \"?\"]\n",
    "        df = pd.DataFrame([row0, row1, row2, row3])\n",
    "        missing = find_indices_with_value(df, \"?\")\n",
    "        np.testing.assert_equal(missing, np.array([3]))\n",
    "        \n",
    "    def test_multiple_missing_on_one_index(self):\n",
    "        row0 = [\">\", \"\", \"!\"]\n",
    "        row1 = [\"3\", \"1\", \"4\"]\n",
    "        row2 = [\"6\", \"10\", \"hello\"]\n",
    "        row3 = [\"my\", \"?\", \"?\"]\n",
    "        df = pd.DataFrame([row0, row1, row2, row3])\n",
    "        missing = find_indices_with_value(df, \"?\")\n",
    "        np.testing.assert_equal(missing, np.array([3]))\n",
    "        \n",
    "    def test_multiple_missing_on_multiple_indices(self):\n",
    "        row0 = [\">\", \"\", \"!\"]\n",
    "        row1 = [\"?\", \"?\", \"4\"]\n",
    "        row2 = [\"6\", \"10\", \"hello\"]\n",
    "        row3 = [\"my\", \"?\", \"?\"]\n",
    "        df = pd.DataFrame([row0, row1, row2, row3])\n",
    "        missing = find_indices_with_value(df, \"?\")\n",
    "        np.testing.assert_equal(missing, np.array([1, 3]))\n",
    "        \n",
    "    def test_one_row_df(self):\n",
    "        row0 = [\">\", \"?\", \"!\"]\n",
    "        df = pd.DataFrame([row0])\n",
    "        missing = find_indices_with_value(df, \"?\")\n",
    "        np.testing.assert_equal(missing, np.array([0]))"
   ]
  },
  {
   "cell_type": "code",
   "execution_count": 14,
   "metadata": {},
   "outputs": [
    {
     "name": "stderr",
     "output_type": "stream",
     "text": [
      "test_multiple_missing_indices (__main__.MyTests) ... ok\n",
      "test_multiple_missing_on_multiple_indices (__main__.MyTests) ... ok\n",
      "test_multiple_missing_on_one_index (__main__.MyTests) ... ok\n",
      "test_no_missing_indices (__main__.MyTests) ... ok\n",
      "test_one_missing_index (__main__.MyTests) ... ok\n",
      "test_one_row_df (__main__.MyTests) ... ok\n",
      "\n",
      "----------------------------------------------------------------------\n",
      "Ran 6 tests in 0.019s\n",
      "\n",
      "OK\n"
     ]
    },
    {
     "data": {
      "text/plain": [
       "<unittest.main.TestProgram at 0x7f28b1242be0>"
      ]
     },
     "execution_count": 14,
     "metadata": {},
     "output_type": "execute_result"
    }
   ],
   "source": [
    "unittest.main(argv=[\"foo\"], exit = False, verbosity = 2)"
   ]
  }
 ],
 "metadata": {
  "anaconda-cloud": {},
  "kernelspec": {
   "display_name": "Python 3",
   "language": "python",
   "name": "python3"
  },
  "language_info": {
   "codemirror_mode": {
    "name": "ipython",
    "version": 3
   },
   "file_extension": ".py",
   "mimetype": "text/x-python",
   "name": "python",
   "nbconvert_exporter": "python",
   "pygments_lexer": "ipython3",
   "version": "3.5.4"
  }
 },
 "nbformat": 4,
 "nbformat_minor": 2
}
